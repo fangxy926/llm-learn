{
 "cells": [
  {
   "cell_type": "markdown",
   "id": "f72ec1eb",
   "metadata": {},
   "source": [
    "## time库\n",
    "- 用于处理时间相关任务的标准库"
   ]
  },
  {
   "cell_type": "code",
   "execution_count": 1,
   "id": "9aa36b64",
   "metadata": {},
   "outputs": [
    {
     "name": "stdout",
     "output_type": "stream",
     "text": [
      "当前时间的时间戳： 1722221398.7988958\n",
      "本地时间: time.struct_time(tm_year=2024, tm_mon=7, tm_mday=29, tm_hour=10, tm_min=49, tm_sec=58, tm_wday=0, tm_yday=211, tm_isdst=0)\n",
      "格式化时间: 2024-07-29 10:49:58\n",
      "解析时间字符串: time.struct_time(tm_year=2024, tm_mon=7, tm_mday=29, tm_hour=10, tm_min=49, tm_sec=58, tm_wday=0, tm_yday=211, tm_isdst=-1)\n"
     ]
    }
   ],
   "source": [
    "import time\n",
    "\n",
    "# 获取当前时间的时间戳\n",
    "current_timestamp = time.time()\n",
    "print(\"当前时间的时间戳：\", current_timestamp)\n",
    "\n",
    "# 将时间戳转换为本地时间\n",
    "local_time = time.localtime()\n",
    "print(\"本地时间:\", local_time)\n",
    "\n",
    "# 将当前时间格式化为字符串\n",
    "formatted_time = time.strftime(\"%Y-%m-%d %H:%M:%S\", local_time)\n",
    "print(\"格式化时间:\", formatted_time)\n",
    "\n",
    "# 将字符串解析为struct_time对象\n",
    "parsed_time = time.strptime(formatted_time, \"%Y-%m-%d %H:%M:%S\")\n",
    "print(\"解析时间字符串:\", parsed_time)"
   ]
  },
  {
   "cell_type": "markdown",
   "id": "e7d4e67b",
   "metadata": {},
   "source": [
    "- time.sleep(secs): 让程序暂停执行指定的秒数。"
   ]
  },
  {
   "cell_type": "code",
   "execution_count": 2,
   "id": "825a8773",
   "metadata": {},
   "outputs": [
    {
     "name": "stdout",
     "output_type": "stream",
     "text": [
      "Sleeping for 2 seconds...\n",
      "Awake now!\n"
     ]
    }
   ],
   "source": [
    "print(\"Sleeping for 2 seconds...\")\n",
    "time.sleep(2)\n",
    "print(\"Awake now!\")"
   ]
  },
  {
   "cell_type": "markdown",
   "id": "24b9d4cb",
   "metadata": {},
   "source": [
    "- 更多方法见文档：https://docs.python.org/zh-cn/3/library/time.html"
   ]
  },
  {
   "cell_type": "markdown",
   "id": "a9f6f08f",
   "metadata": {},
   "source": [
    "### Python函数返回值\n",
    "\n",
    "- 支持返回多值\n",
    "- 如果不想用任何参数接收返回值，可以用`_`"
   ]
  },
  {
   "cell_type": "code",
   "execution_count": 5,
   "id": "e6f47e43",
   "metadata": {},
   "outputs": [
    {
     "name": "stdout",
     "output_type": "stream",
     "text": [
      "1 3\n"
     ]
    }
   ],
   "source": [
    "def func():\n",
    "    return 1, 2, '3'\n",
    "\n",
    "a, _, c = func()\n",
    "print(a, c)  # 输出: 1 2 3"
   ]
  },
  {
   "cell_type": "code",
   "execution_count": null,
   "id": "ef37aa34",
   "metadata": {},
   "outputs": [],
   "source": []
  }
 ],
 "metadata": {
  "kernelspec": {
   "display_name": "Python 3 (ipykernel)",
   "language": "python",
   "name": "python3"
  },
  "language_info": {
   "codemirror_mode": {
    "name": "ipython",
    "version": 3
   },
   "file_extension": ".py",
   "mimetype": "text/x-python",
   "name": "python",
   "nbconvert_exporter": "python",
   "pygments_lexer": "ipython3",
   "version": "3.9.13"
  }
 },
 "nbformat": 4,
 "nbformat_minor": 5
}
