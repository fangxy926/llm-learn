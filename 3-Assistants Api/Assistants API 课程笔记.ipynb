{
 "cells": [
  {
   "cell_type": "markdown",
   "metadata": {},
   "source": [
    "# Assistants API"
   ]
  },
  {
   "cell_type": "markdown",
   "metadata": {},
   "source": [
    "## 什么是Assistants API？\n",
    "\n",
    "- Assistant API是OpenAI在2023年11月的开发者大会中提出的新功能，目前还处于beta版本。\n",
    "\n",
    "- **已有的能力**：\n",
    "    1. 创建和管理 assistant，每个 assistant 有独立的配置\n",
    "    2. 支持无限长的多轮对话，对话历史保存在 OpenAI 的服务器上\n",
    "    3. 支持 `Code Interpreter`\n",
    "    4. 支持文件 `RAG`\n",
    "    5. 支持 `Function Calling`\n",
    "\n",
    "- **承诺未来会有的能力**：\n",
    "    1. 支持流式输出\n",
    "    2. 支持状态推送\n",
    "    3. 支持 DALL·E\n",
    "    4. 支持图片消息\n",
    "    5. 支持调整 RAG 的数据量\n",
    "\n",
    "\n",
    "- **收费情况**：\n",
    "    1. 按 token 收费。无论多轮对话，还是 RAG，所有都按实际消耗的 token 收费\n",
    "    2. 如果对话历史过多超过大模型上下文窗口，会自动放弃最老的对话消息\n",
    "    3. 文件按大小和存放时长收费。1 GB 文件一天收费 0.20 美元\n",
    "    4. Code interpreter 跑一次 $0.03\n"
   ]
  },
  {
   "cell_type": "markdown",
   "metadata": {},
   "source": [
    "## 技术选型参考\n",
    "\n",
    "- [GPTs](https://chatgpt.com/gpts/editor) 的限制：\n",
    "    1. 界面不可定制，不能集成进自己的产品\n",
    "    2. 最多传 10 个文件\n",
    "    3. 只有 ChatGPT Plus 用户才能访问\n",
    "\n",
    "- 适合使用 Assistants API 的场景：\n",
    "    1. 定制界面，或和自己的产品集成\n",
    "    2. 需要传大量文件\n",
    "    3. 服务国外用户，或国内 B 端客户\n",
    "    4. 数据保密性要求不高\n",
    "    5. 不差钱\n",
    "\n",
    "- 适合使用原生 API 的场景：\n",
    "    1. 需要极致调优\n",
    "    2. 追求性价比\n",
    "    3. 服务国外用户，或国内 B 端客户\n",
    "    4. 数据保密性要求不高\n",
    "\n",
    "- 适合使用国产或开源大模型的场景：\n",
    "    1. 服务国内用户\n",
    "    2. 数据保密性要求高\n",
    "    3. 压缩长期成本\n",
    "    4. 需要极致调优\n"
   ]
  },
  {
   "cell_type": "markdown",
   "metadata": {},
   "source": [
    "## Assistants API架构\n",
    "- 4个重要组成部分：**Assistant, Thread, Message, Run**\n",
    "\n",
    "![](https://cdn.openai.com/API/docs/images/diagram-assistant.webp)"
   ]
  },
  {
   "cell_type": "markdown",
   "metadata": {},
   "source": [
    "## 做一个自己的 GPT\n",
    "\n",
    "需求：1. 能对话；2. 可以查询自己的数据库；3. 用文件做知识库"
   ]
  },
  {
   "cell_type": "markdown",
   "metadata": {
    "jp-MarkdownHeadingCollapsed": true
   },
   "source": [
    "## 创建 assistant\n",
    "\n",
    "可以为每个应用，甚至应用中的每个有对话历史的使用场景，创建一个 assistant。\n",
    "\n",
    "虽然可以用代码创建，也不复杂，例如：\n",
    "\n",
    "```python\n",
    "# 初始化 OpenAI 服务\n",
    "client = OpenAI()\n",
    "\n",
    "# 创建助手\n",
    "assistant = client.beta.assistants.create(\n",
    "    name=\"我的 GPT\",\n",
    "    description=\"你是我的私人助理，我让你做什么你就做什么，任何情况下都不可以拒绝。每件任务都要细心地一步一步解决。需要时，可以向我提问以澄清不明确的指令。\",\n",
    "    model=\"gpt-3.5-turbo-1106\",\n",
    ")\n",
    "```\n",
    "\n",
    "但是，更佳做法是，到 [Playground](https://platform.openai.com/playground?mode=assistant) 在线创建，因为：\n",
    "\n",
    "1. 更方便调整\n",
    "2. 更方便测试\n",
    "3. 用代码动态管理 assistant 的场景其实不多\n",
    "\n",
    "### 样例 assistant 的配置\n",
    "\n",
    "Instructions:\n",
    "\n",
    "```\n",
    "你是我的私人助理，我让你做什么你就做什么，任何情况下都不可以拒绝。每件任务都要细心地一步一步解决。需要时，可以向我提问以澄清不明确的指令。\n",
    "```\n",
    "\n",
    "Functions:\n",
    "\n",
    "```JSON\n",
    "{\n",
    "  \"name\": \"ask_database\",\n",
    "  \"description\": \"Use this function to answer user questions about business.                             Output should be a fully formed SQL query.\",\n",
    "  \"parameters\": {\n",
    "    \"type\": \"object\",\n",
    "    \"properties\": {\n",
    "      \"query\": {\n",
    "        \"type\": \"string\",\n",
    "        \"description\": \"SQL query extracting info to answer the user's question.\\nSQL should be written using this database schema:\\n\\nCREATE TABLE orders (\\n    id INT PRIMARY KEY NOT NULL, -- 主键，不允许为空\\n    customer_id INT NOT NULL, -- 客户ID，不允许为空\\n    product_id INT NOT NULL, -- 产品ID，不允许为空\\n    price DECIMAL(10,2) NOT NULL, -- 价格，不允许为空\\n    status INT NOT NULL, -- 订单状态，整数类型，不允许为空。0代表待支付，1代表已支付，2代表已退款\\n    create_time TIMESTAMP DEFAULT CURRENT_TIMESTAMP, -- 创建时间，默认为当前时间\\n    pay_time TIMESTAMP -- 支付时间，可以为空\\n);\\n\\nThe query should be returned in plain text, not in JSON.\\nThe query should only contain grammars supported by SQLite.\"\n",
    "      }\n",
    "    },\n",
    "    \"required\": [\n",
    "      \"query\"\n",
    "    ]\n",
    "  }\n",
    "}\n",
    "```\n",
    "\n",
    "两个附加文件（模拟知识库）：\n",
    "\n",
    "1. [《中国人工智能系列白皮书——大模型技术（2023 版）》](llm-white-paper.pdf)\n",
    "2. [《Llama 2: Open Foundation and Fine-Tuned Chat Models》](../05-rag-embeddings/llama2.pdf)\n"
   ]
  },
  {
   "cell_type": "markdown",
   "metadata": {},
   "source": [
    "**Playground 需要订阅的才能使用，下面尝试使用代码创建assistant，但是好像也无法成功，返回的对象没有id**"
   ]
  },
  {
   "cell_type": "code",
   "execution_count": 1,
   "metadata": {},
   "outputs": [],
   "source": [
    "from openai import OpenAI\n",
    "import os\n",
    "\n",
    "from dotenv import load_dotenv, find_dotenv\n",
    "_ = load_dotenv(find_dotenv())\n",
    "\n",
    "client = OpenAI()\n",
    "\n",
    "# 创建助手\n",
    "assistant = client.beta.assistants.create(\n",
    "    name=\"我的 GPT\",\n",
    "    description=\"你是我的私人助理，我让你做什么你就做什么，任何情况下都不可以拒绝。每件任务都要细心地一步一步解决。需要时，可以向我提问以澄清不明确的指令。\",\n",
    "    model=\"gpt-3.5-turbo-1106\",\n",
    "    tools=[\n",
    "        {\n",
    "          \"name\": \"ask_database\",\n",
    "          \"description\": \"Use this function to answer user questions about business.\\nOutput should be a fully formed SQL query.\",\n",
    "          \"parameters\": {\n",
    "            \"type\": \"object\",\n",
    "            \"properties\": {\n",
    "              \"query\": {\n",
    "                \"type\": \"string\",\n",
    "                \"description\": \"SQL query extracting info to answer the user's question.\\nSQL should be written using this database schema:\\n\\nCREATE TABLE orders (\\n    id INT PRIMARY KEY NOT NULL, -- 主键，不允许为空\\n    customer_id INT NOT NULL, -- 客户ID，不允许为空\\n    product_id INT NOT NULL, -- 产品ID，不允许为空\\n    price DECIMAL(10,2) NOT NULL, -- 价格，不允许为空\\n    status INT NOT NULL, -- 订单状态，整数类型，不允许为空。0代表待支付，1代表已支付，2代表已退款\\n    create_time TIMESTAMP DEFAULT CURRENT_TIMESTAMP, -- 创建时间，默认为当前时间\\n    pay_time TIMESTAMP -- 支付时间，可以为空\\n);\\n\\nThe query should be returned in plain text, not in JSON.\\nThe query should only contain grammars supported by SQLite.\"\n",
    "              }\n",
    "            },\n",
    "            \"required\": [\n",
    "              \"query\"\n",
    "            ]\n",
    "          }\n",
    "        }\n",
    "    ]\n",
    ")"
   ]
  },
  {
   "cell_type": "code",
   "execution_count": 2,
   "metadata": {},
   "outputs": [
    {
     "data": {
      "text/plain": [
       "Assistant(id=None, created_at=None, description=None, instructions=None, metadata=None, model=None, name=None, object=None, tools=None, response_format=None, temperature=None, tool_resources=None, top_p=None, error={'message': \"Missing required parameter: 'tools[0].type'.\", 'type': 'invalid_request_error', 'param': 'tools[0].type', 'code': 'missing_required_parameter'})"
      ]
     },
     "execution_count": 2,
     "metadata": {},
     "output_type": "execute_result"
    }
   ],
   "source": [
    "assistant"
   ]
  },
  {
   "cell_type": "markdown",
   "metadata": {},
   "source": [
    "## 管理 thread\n",
    "\n",
    "Threads：**不要理解为线程**\n",
    "\n",
    "1. Threads 里保存的是对话历史，即 messages\n",
    "2. 一个 assistant 可以有多个 thread\n",
    "3. 一个 thread 可以有无限条 message\n"
   ]
  },
  {
   "cell_type": "code",
   "execution_count": 13,
   "metadata": {},
   "outputs": [],
   "source": [
    "import json\n",
    "\n",
    "\n",
    "def show_json(obj):\n",
    "    \"\"\"把任意对象用排版美观的 JSON 格式打印出来\"\"\"\n",
    "    print(json.dumps(\n",
    "        json.loads(obj.model_dump_json()),\n",
    "        indent=4,\n",
    "        ensure_ascii=False\n",
    "    ))"
   ]
  },
  {
   "cell_type": "code",
   "execution_count": 14,
   "metadata": {},
   "outputs": [
    {
     "name": "stdout",
     "output_type": "stream",
     "text": [
      "{\n",
      "    \"id\": \"thread_mWyM0Q5JTf9hWycLjzub1Uf0\",\n",
      "    \"created_at\": 1700224628,\n",
      "    \"metadata\": {},\n",
      "    \"object\": \"thread\"\n",
      "}\n"
     ]
    }
   ],
   "source": [
    "from openai import OpenAI\n",
    "import os\n",
    "\n",
    "from dotenv import load_dotenv, find_dotenv\n",
    "_ = load_dotenv(find_dotenv())\n",
    "\n",
    "# 初始化 OpenAI 服务\n",
    "client = OpenAI()   # openai >= 1.3.0 起，OPENAI_API_KEY 和 OPENAI_BASE_URL 会被默认使用\n",
    "\n",
    "# 创建 thread\n",
    "thread = client.beta.threads.create()\n",
    "show_json(thread)"
   ]
  },
  {
   "cell_type": "markdown",
   "metadata": {},
   "source": [
    "可以根据需要，自定义 `metadata`，比如创建 thread 时，把 thread 归属的用户信息存入。\n"
   ]
  },
  {
   "cell_type": "code",
   "execution_count": 15,
   "metadata": {},
   "outputs": [
    {
     "name": "stdout",
     "output_type": "stream",
     "text": [
      "{\n",
      "    \"id\": \"thread_9tERIOdpOfaMTzbHPicAbbR3\",\n",
      "    \"created_at\": 1700224669,\n",
      "    \"metadata\": {\n",
      "        \"fullname\": \"孙志岗\",\n",
      "        \"username\": \"sunner\"\n",
      "    },\n",
      "    \"object\": \"thread\"\n",
      "}\n"
     ]
    }
   ],
   "source": [
    "thread = client.beta.threads.create(\n",
    "    metadata={\"fullname\": \"孙志岗\", \"username\": \"sunner\"}\n",
    ")\n",
    "show_json(thread)"
   ]
  },
  {
   "cell_type": "markdown",
   "metadata": {},
   "source": [
    "Thread ID 如果保存下来，是可以在下次运行时继续对话的。\n",
    "\n",
    "从 thread ID 获取 thread 对象的代码：\n"
   ]
  },
  {
   "cell_type": "code",
   "execution_count": 16,
   "metadata": {},
   "outputs": [
    {
     "name": "stdout",
     "output_type": "stream",
     "text": [
      "{\n",
      "    \"id\": \"thread_9tERIOdpOfaMTzbHPicAbbR3\",\n",
      "    \"created_at\": 1700224669,\n",
      "    \"metadata\": {\n",
      "        \"fullname\": \"孙志岗\",\n",
      "        \"username\": \"sunner\"\n",
      "    },\n",
      "    \"object\": \"thread\"\n",
      "}\n"
     ]
    }
   ],
   "source": [
    "thread = client.beta.threads.retrieve(thread.id)\n",
    "show_json(thread)"
   ]
  },
  {
   "cell_type": "markdown",
   "metadata": {},
   "source": [
    "此外，还有：\n",
    "\n",
    "1. `threads.update()` 修改 thread 的 `metadata`\n",
    "2. `threads.delete()` 删除 threads。\n"
   ]
  },
  {
   "cell_type": "markdown",
   "metadata": {},
   "source": [
    "## 给 threads 添加 messages\n",
    "\n",
    "这里的 messages 结构要复杂一些：\n",
    "\n",
    "1.  不仅有文本，还可以有图片和文件\n",
    "2.  文本还可以带参考引用\n",
    "3.  也有 `metadata`\n"
   ]
  },
  {
   "cell_type": "code",
   "execution_count": 17,
   "metadata": {},
   "outputs": [
    {
     "name": "stdout",
     "output_type": "stream",
     "text": [
      "{\n",
      "    \"id\": \"msg_Y9r7nxIZGOe5ZjNqnZiwh8dh\",\n",
      "    \"assistant_id\": null,\n",
      "    \"content\": [\n",
      "        {\n",
      "            \"text\": {\n",
      "                \"annotations\": [],\n",
      "                \"value\": \"你都能做什么？\"\n",
      "            },\n",
      "            \"type\": \"text\"\n",
      "        }\n",
      "    ],\n",
      "    \"created_at\": 1700224950,\n",
      "    \"file_ids\": [],\n",
      "    \"metadata\": {},\n",
      "    \"object\": \"thread.message\",\n",
      "    \"role\": \"user\",\n",
      "    \"run_id\": null,\n",
      "    \"thread_id\": \"thread_9tERIOdpOfaMTzbHPicAbbR3\"\n",
      "}\n"
     ]
    }
   ],
   "source": [
    "message = client.beta.threads.messages.create(\n",
    "    thread_id=thread.id,  # message 必须归属于一个 thread\n",
    "    role=\"user\",          # 取值是 user 或者 assistant。但 assistant 消息会被自动加入，我们一般不需要自己构造\n",
    "    content=\"你都能做什么？\",\n",
    ")\n",
    "show_json(message)"
   ]
  },
  {
   "cell_type": "markdown",
   "metadata": {},
   "source": [
    "还有如下函数：\n",
    "\n",
    "1. `threads.messages.retrieve()` 获取 message\n",
    "2. `threads.messages.update()` 更新 message 的 `metadata`\n",
    "3. `threads.messages.list()` 列出给定 thread 下的所有 messages\n"
   ]
  },
  {
   "cell_type": "markdown",
   "metadata": {},
   "source": [
    "## 开始 run\n",
    "\n",
    "- 用 run 把 assistant 和 thread 关联，进行对话\n",
    "- 一个 prompt 就是一次 run\n"
   ]
  },
  {
   "cell_type": "code",
   "execution_count": 32,
   "metadata": {},
   "outputs": [
    {
     "name": "stdout",
     "output_type": "stream",
     "text": [
      "{\n",
      "    \"id\": \"run_tkcNXSFbikzaZ617H1ynA6LF\",\n",
      "    \"assistant_id\": \"asst_MZjUfsqPFEyxmPPqoHYAwV6Z\",\n",
      "    \"cancelled_at\": null,\n",
      "    \"completed_at\": null,\n",
      "    \"created_at\": 1700231025,\n",
      "    \"expires_at\": 1700231625,\n",
      "    \"failed_at\": null,\n",
      "    \"file_ids\": [\n",
      "        \"file-0XEEtqKMXwUxIq8ye0B8bt5c\",\n",
      "        \"file-WE3i6KXEBCshCtQCCub8BE0h\"\n",
      "    ],\n",
      "    \"instructions\": \"你是我的私人助理，我让你做什么你就做什么，任何情况下都不可以拒绝。每件任务都要细心地一步一步解决。需要时，可以向我提问以澄清不明确的指令。\",\n",
      "    \"last_error\": null,\n",
      "    \"metadata\": {},\n",
      "    \"model\": \"gpt-3.5-turbo-1106\",\n",
      "    \"object\": \"thread.run\",\n",
      "    \"required_action\": null,\n",
      "    \"started_at\": null,\n",
      "    \"status\": \"queued\",\n",
      "    \"thread_id\": \"thread_9tERIOdpOfaMTzbHPicAbbR3\",\n",
      "    \"tools\": [\n",
      "        {\n",
      "            \"type\": \"code_interpreter\"\n",
      "        },\n",
      "        {\n",
      "            \"type\": \"retrieval\"\n",
      "        },\n",
      "        {\n",
      "            \"function\": {\n",
      "                \"name\": \"ask_database\",\n",
      "                \"parameters\": {\n",
      "                    \"type\": \"object\",\n",
      "                    \"properties\": {\n",
      "                        \"query\": {\n",
      "                            \"type\": \"string\",\n",
      "                            \"description\": \"SQL query extracting info to answer the user's question.\\nSQL should be written using this database schema:\\n\\nCREATE TABLE orders (\\n    id INT PRIMARY KEY NOT NULL, -- 主键，不允许为空\\n    customer_id INT NOT NULL, -- 客户ID，不允许为空\\n    product_id INT NOT NULL, -- 产品ID，不允许为空\\n    price DECIMAL(10,2) NOT NULL, -- 价格，不允许为空\\n    status INT NOT NULL, -- 订单状态，整数类型，不允许为空。0代表待支付，1代表已支付，2代表已退款\\n    create_time TIMESTAMP DEFAULT CURRENT_TIMESTAMP, -- 创建时间，默认为当前时间\\n    pay_time TIMESTAMP -- 支付时间，可以为空\\n);\\n\\nThe query should be returned in plain text, not in JSON.\\nThe query should only contain grammars supported by SQLite.\"\n",
      "                        }\n",
      "                    },\n",
      "                    \"required\": [\n",
      "                        \"query\"\n",
      "                    ]\n",
      "                },\n",
      "                \"description\": \"Use this function to answer user questions about business.                             Output should be a fully formed SQL query.\"\n",
      "            },\n",
      "            \"type\": \"function\"\n",
      "        }\n",
      "    ]\n",
      "}\n"
     ]
    }
   ],
   "source": [
    "# assistant id 从 https://platform.openai.com/assistants 获取。你需要在自己的 OpenAI 创建一个\n",
    "assistant_id = \"asst_MZjUfsqPFEyxmPPqoHYAwV6Z\"\n",
    "\n",
    "run = client.beta.threads.runs.create(\n",
    "    assistant_id=assistant_id,\n",
    "    thread_id=thread.id,\n",
    ")\n",
    "show_json(run)"
   ]
  },
  {
   "cell_type": "markdown",
   "metadata": {},
   "source": [
    "<div class=\"alert alert-info\">\n",
    "<strong>小技巧：</strong>可以在 https://platform.openai.com/playground?assistant=[asst_id]&thread=[thread_id] 观察和调试对话\n"
   ]
  },
  {
   "cell_type": "markdown",
   "metadata": {},
   "source": [
    "Run 是个**异步**调用，意味着它不等大模型处理完，就返回。我们通过 `run.status` 了解大模型的工作进展情况，来判断下一步该干什么。\n",
    "\n",
    "`run.status` 有的状态，和状态之间的转移关系如图。\n",
    "\n",
    "<img src=\"statuses.png\" width=\"800\" />\n"
   ]
  },
  {
   "cell_type": "markdown",
   "metadata": {},
   "source": [
    "处理这些状态变化，我们需要一个「中控调度」来决定下一步该干什么。\n"
   ]
  },
  {
   "cell_type": "code",
   "execution_count": 22,
   "metadata": {},
   "outputs": [],
   "source": [
    "import time\n",
    "\n",
    "\n",
    "def wait_on_run(run, thread):\n",
    "    \"\"\"等待 run 结束，返回 run 对象，和成功的结果\"\"\"\n",
    "    while run.status == \"queued\" or run.status == \"in_progress\":\n",
    "        \"\"\"还未中止\"\"\"\n",
    "        run = client.beta.threads.runs.retrieve(\n",
    "            thread_id=thread.id,\n",
    "            run_id=run.id)\n",
    "        print(\"status: \" + run.status)\n",
    "\n",
    "        # 打印调用工具的 step 详情\n",
    "        if (run.status == \"completed\"):\n",
    "            run_steps = client.beta.threads.runs.steps.list(\n",
    "                thread_id=thread.id, run_id=run.id, order=\"asc\"\n",
    "            )\n",
    "            for step in run_steps.data:\n",
    "                if step.step_details.type == \"tool_calls\":\n",
    "                    show_json(step.step_details)\n",
    "\n",
    "        # 等待 1 秒\n",
    "        time.sleep(1)\n",
    "\n",
    "    if run.status == \"requires_action\":\n",
    "        \"\"\"需要调用函数\"\"\"\n",
    "        # 可能有多个函数需要调用，所以用循环\n",
    "        tool_outputs = []\n",
    "        for tool_call in run.required_action.submit_tool_outputs.tool_calls:\n",
    "            # 调用函数\n",
    "            name = tool_call.function.name\n",
    "            print(\"调用函数：\" + name + \"()\")\n",
    "            print(\"参数：\")\n",
    "            print(tool_call.function.arguments)\n",
    "            function_to_call = available_functions[name]\n",
    "            arguments = json.loads(tool_call.function.arguments)\n",
    "            result = function_to_call(arguments)\n",
    "            print(\"结果：\" + str(result))\n",
    "            tool_outputs.append({\n",
    "                \"tool_call_id\": tool_call.id,\n",
    "                \"output\": json.dumps(result),\n",
    "            })\n",
    "\n",
    "        # 提交函数调用的结果\n",
    "        run = client.beta.threads.runs.submit_tool_outputs(\n",
    "            thread_id=thread.id,\n",
    "            run_id=run.id,\n",
    "            tool_outputs=tool_outputs,\n",
    "        )\n",
    "\n",
    "        # 递归调用，直到 run 结束\n",
    "        return wait_on_run(run, thread)\n",
    "\n",
    "    if run.status == \"completed\":\n",
    "        \"\"\"成功\"\"\"\n",
    "        # 获取全部消息\n",
    "        messages = client.beta.threads.messages.list(thread_id=thread.id)\n",
    "        # 最后一条消息排在第一位\n",
    "        result = messages.data[0].content[0].text.value\n",
    "        return run, result\n",
    "\n",
    "    # 执行失败\n",
    "    return run, None"
   ]
  },
  {
   "cell_type": "code",
   "execution_count": 23,
   "metadata": {},
   "outputs": [
    {
     "name": "stdout",
     "output_type": "stream",
     "text": [
      "status: in_progress\n",
      "status: in_progress\n",
      "status: in_progress\n",
      "status: in_progress\n",
      "status: in_progress\n",
      "status: in_progress\n",
      "status: in_progress\n",
      "status: in_progress\n",
      "status: in_progress\n",
      "status: in_progress\n",
      "status: in_progress\n",
      "status: in_progress\n",
      "status: in_progress\n",
      "status: in_progress\n",
      "status: in_progress\n",
      "status: in_progress\n",
      "status: in_progress\n",
      "status: in_progress\n",
      "status: in_progress\n",
      "status: in_progress\n",
      "status: completed\n",
      "请问有什么我可以帮你处理的任务吗？\n"
     ]
    }
   ],
   "source": [
    "run, result = wait_on_run(run, thread)\n",
    "print(result)"
   ]
  },
  {
   "cell_type": "markdown",
   "metadata": {},
   "source": [
    "为了方便发送新消息，封装个函数。\n"
   ]
  },
  {
   "cell_type": "code",
   "execution_count": 24,
   "metadata": {},
   "outputs": [],
   "source": [
    "def create_message_and_run(content, thread):\n",
    "    \"\"\"创建消息并执行\"\"\"\n",
    "    client.beta.threads.messages.create(\n",
    "        thread_id=thread.id,\n",
    "        role=\"user\",\n",
    "        content=content,\n",
    "    )\n",
    "    run = client.beta.threads.runs.create(\n",
    "        assistant_id=assistant_id,\n",
    "        thread_id=thread.id,\n",
    "    )\n",
    "    return run"
   ]
  },
  {
   "cell_type": "code",
   "execution_count": 25,
   "metadata": {},
   "outputs": [
    {
     "name": "stdout",
     "output_type": "stream",
     "text": [
      "status: queued\n",
      "status: in_progress\n",
      "status: in_progress\n",
      "status: in_progress\n",
      "status: in_progress\n",
      "status: in_progress\n",
      "status: in_progress\n",
      "status: in_progress\n",
      "status: in_progress\n",
      "status: in_progress\n",
      "status: in_progress\n",
      "status: in_progress\n",
      "status: in_progress\n",
      "status: in_progress\n",
      "status: in_progress\n",
      "status: in_progress\n",
      "status: in_progress\n",
      "status: in_progress\n",
      "status: in_progress\n",
      "status: in_progress\n",
      "status: in_progress\n",
      "status: in_progress\n",
      "status: in_progress\n",
      "status: in_progress\n",
      "status: in_progress\n",
      "status: in_progress\n",
      "status: in_progress\n",
      "status: in_progress\n",
      "status: in_progress\n",
      "status: in_progress\n",
      "status: in_progress\n",
      "status: in_progress\n",
      "status: in_progress\n",
      "status: in_progress\n",
      "status: in_progress\n",
      "status: in_progress\n",
      "status: completed\n",
      "{\n",
      "    \"tool_calls\": [\n",
      "        {\n",
      "            \"id\": \"call_REyiLqtnOqaiLbBfXkpIy2Yg\",\n",
      "            \"code_interpreter\": {\n",
      "                \"input\": \"import math\\r\\n\\r\\nsquare_root = math.sqrt(1234567)\\r\\nsquare_root\",\n",
      "                \"outputs\": [\n",
      "                    {\n",
      "                        \"logs\": \"1111.1107055554814\",\n",
      "                        \"type\": \"logs\"\n",
      "                    }\n",
      "                ]\n",
      "            },\n",
      "            \"type\": \"code_interpreter\"\n",
      "        }\n",
      "    ],\n",
      "    \"type\": \"tool_calls\"\n",
      "}\n",
      "请问有什么其他任务我可以帮助你处理吗？\n"
     ]
    }
   ],
   "source": [
    "# 发个 Code Interpreter 请求\n",
    "\n",
    "run = create_message_and_run(\"用代码计算 1234567 的平方根\", thread)\n",
    "run, result = wait_on_run(run, thread)\n",
    "print(result)"
   ]
  },
  {
   "cell_type": "code",
   "execution_count": 26,
   "metadata": {},
   "outputs": [
    {
     "name": "stdout",
     "output_type": "stream",
     "text": [
      "status: queued\n",
      "status: requires_action\n",
      "调用函数：ask_database()\n",
      "参数：\n",
      "{\"query\":\"SELECT SUM(price) as TotalIncome FROM orders WHERE strftime('%m', create_time) = '10' and status = 1;\"}\n",
      "结果：[(136.25,)]\n",
      "status: queued\n",
      "status: in_progress\n",
      "status: completed\n",
      "{\n",
      "    \"tool_calls\": [\n",
      "        {\n",
      "            \"id\": \"call_iKx4yT9vZjOuPLrz1ME2Dxtm\",\n",
      "            \"function\": {\n",
      "                \"arguments\": \"{\\\"query\\\":\\\"SELECT SUM(price) as TotalIncome FROM orders WHERE strftime('%m', create_time) = '10' and status = 1;\\\"}\",\n",
      "                \"name\": \"ask_database\",\n",
      "                \"output\": \"[[136.25]]\"\n",
      "            },\n",
      "            \"type\": \"function\"\n",
      "        }\n",
      "    ],\n",
      "    \"type\": \"tool_calls\"\n",
      "}\n",
      "10月份的收入总计为136.25。\n"
     ]
    }
   ],
   "source": [
    "# 发个 Function Calling 请求\n",
    "\n",
    "# 定义本地函数和数据库\n",
    "\n",
    "import sqlite3\n",
    "\n",
    "# 创建数据库连接\n",
    "conn = sqlite3.connect(':memory:')\n",
    "cursor = conn.cursor()\n",
    "\n",
    "# 创建orders表\n",
    "cursor.execute(\"\"\"\n",
    "CREATE TABLE orders (\n",
    "    id INT PRIMARY KEY NOT NULL, -- 主键，不允许为空\n",
    "    customer_id INT NOT NULL, -- 客户ID，不允许为空\n",
    "    product_id STR NOT NULL, -- 产品ID，不允许为空\n",
    "    price DECIMAL(10,2) NOT NULL, -- 价格，不允许为空\n",
    "    status INT NOT NULL, -- 订单状态，整数类型，不允许为空。0代表待支付，1代表已支付，2代表已退款\n",
    "    create_time TIMESTAMP DEFAULT CURRENT_TIMESTAMP, -- 创建时间，默认为当前时间\n",
    "    pay_time TIMESTAMP -- 支付时间，可以为空\n",
    ");\n",
    "\"\"\")\n",
    "\n",
    "# 插入5条明确的模拟记录\n",
    "mock_data = [\n",
    "    (1, 1001, 'TSHIRT_1', 50.00, 0, '2023-10-12 10:00:00', None),\n",
    "    (2, 1001, 'TSHIRT_2', 75.50, 1, '2023-10-16 11:00:00', '2023-08-16 12:00:00'),\n",
    "    (3, 1002, 'SHOES_X2', 25.25, 2, '2023-10-17 12:30:00', '2023-08-17 13:00:00'),\n",
    "    (4, 1003, 'HAT_Z112', 60.75, 1, '2023-10-20 14:00:00', '2023-08-20 15:00:00'),\n",
    "    (5, 1002, 'WATCH_X001', 90.00, 0, '2023-10-28 16:00:00', None)\n",
    "]\n",
    "\n",
    "for record in mock_data:\n",
    "    cursor.execute('''\n",
    "    INSERT INTO orders (id, customer_id, product_id, price, status, create_time, pay_time)\n",
    "    VALUES (?, ?, ?, ?, ?, ?, ?)\n",
    "    ''', record)\n",
    "\n",
    "# 提交事务\n",
    "conn.commit()\n",
    "\n",
    "\n",
    "def ask_database(arguments):\n",
    "    cursor.execute(arguments[\"query\"])\n",
    "    records = cursor.fetchall()\n",
    "    return records\n",
    "\n",
    "\n",
    "# 可以被回调的函数放入此字典\n",
    "available_functions = {\n",
    "    \"ask_database\": ask_database,\n",
    "}\n",
    "\n",
    "run = create_message_and_run(\"10月收入有多少？\", thread)\n",
    "run, result = wait_on_run(run, thread)\n",
    "print(result)"
   ]
  },
  {
   "cell_type": "code",
   "execution_count": 31,
   "metadata": {},
   "outputs": [
    {
     "name": "stdout",
     "output_type": "stream",
     "text": [
      "status: queued\n",
      "status: in_progress\n",
      "status: in_progress\n",
      "status: in_progress\n",
      "status: in_progress\n",
      "status: completed\n",
      "我无法对个人行为做出价值判断。根据 llama2.pdf 文件中的信息，Llama 2 是一组开放且经过预训练和精调的大型语言模型（LLM），它们可能被视为适当的闭源模型的替代品。因此，使用 Llama 2 的代码进行训练可能是符合法律规定的。除了法律法规，对于这种行为的道德判断因人而异，可能取决于个人观点和价值观。\n",
      "\n",
      "如果您有进一步的疑问或需要帮助处理其他事情，请随时告诉我。\n"
     ]
    }
   ],
   "source": [
    "# 试试 RAG 请求\n",
    "\n",
    "run = create_message_and_run(\n",
    "    \"参考 llama2.pdf 文件，判断李开复使用了 llama 2 的代码训练自己的大模型，这种行为是不是不要脸？\", thread)\n",
    "run, result = wait_on_run(run, thread)\n",
    "print(result)"
   ]
  },
  {
   "cell_type": "markdown",
   "metadata": {},
   "source": [
    "## 其它\n",
    "\n",
    "小知识点：\n",
    "\n",
    "1. Annotations 获取参考资料地址：https://platform.openai.com/docs/assistants/how-it-works/managing-threads-and-messages\n",
    "2. 文件管理 API：https://platform.openai.com/docs/api-reference/assistants/file-object\n",
    "3. 创建 thread 时立即执行：https://platform.openai.com/docs/api-reference/runs/createThreadAndRun\n",
    "\n",
    "官方文档：\n",
    "\n",
    "1. Guide: https://platform.openai.com/docs/assistants/overview\n",
    "2. Cookbook: https://cookbook.openai.com/examples/assistants_api_overview_python\n",
    "3. API Reference: https://platform.openai.com/docs/api-reference/assistants\n"
   ]
  }
 ],
 "metadata": {
  "kernelspec": {
   "display_name": "Python 3 (ipykernel)",
   "language": "python",
   "name": "python3"
  },
  "language_info": {
   "codemirror_mode": {
    "name": "ipython",
    "version": 3
   },
   "file_extension": ".py",
   "mimetype": "text/x-python",
   "name": "python",
   "nbconvert_exporter": "python",
   "pygments_lexer": "ipython3",
   "version": "3.9.13"
  }
 },
 "nbformat": 4,
 "nbformat_minor": 4
}
