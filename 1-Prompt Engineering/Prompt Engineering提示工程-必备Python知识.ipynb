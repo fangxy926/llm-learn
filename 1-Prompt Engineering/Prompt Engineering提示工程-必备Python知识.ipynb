{
 "cells": [
  {
   "cell_type": "markdown",
   "id": "e1340eab",
   "metadata": {},
   "source": [
    "# Prompt Engineering，提示工程\n",
    "## 一、必备Python知识\n",
    "\n",
    "### 1、导入模块方式\n",
    "\n",
    "（1）**导入整个模块**：这种方式导入整个模块，你需要使用模块的命名空间来访问其中的函数、类或变量\n"
   ]
  },
  {
   "cell_type": "code",
   "execution_count": 1,
   "id": "ea1be019",
   "metadata": {},
   "outputs": [
    {
     "name": "stdout",
     "output_type": "stream",
     "text": [
      "4.0\n"
     ]
    }
   ],
   "source": [
    "import math\n",
    "print(math.sqrt(16))  # 输出: 4.0"
   ]
  },
  {
   "cell_type": "markdown",
   "id": "55b6c22c",
   "metadata": {},
   "source": [
    "（2）**导入模块的特定部分**：这种方式只导入模块中的特定部分，如函数、类或变量，可以直接使用它们而不需要模块的命名空间"
   ]
  },
  {
   "cell_type": "code",
   "execution_count": 2,
   "id": "5409c3b8",
   "metadata": {},
   "outputs": [
    {
     "name": "stdout",
     "output_type": "stream",
     "text": [
      "4.0\n"
     ]
    }
   ],
   "source": [
    "from math import sqrt\n",
    "print(sqrt(16))  # 输出: 4.0"
   ]
  },
  {
   "cell_type": "markdown",
   "id": "bfe9dd86",
   "metadata": {},
   "source": [
    "（3）使用**别名**导入模块"
   ]
  },
  {
   "cell_type": "code",
   "execution_count": 3,
   "id": "903bee94",
   "metadata": {},
   "outputs": [
    {
     "name": "stdout",
     "output_type": "stream",
     "text": [
      "2024-07-19 16:16:56.233541\n"
     ]
    }
   ],
   "source": [
    "from datetime import datetime as dt\n",
    "now = dt.now()\n",
    "print(now)"
   ]
  },
  {
   "cell_type": "markdown",
   "id": "3684ea8d",
   "metadata": {},
   "source": [
    "（4）**导入模块的所有内容**"
   ]
  },
  {
   "cell_type": "code",
   "execution_count": 4,
   "id": "fcd7f74f",
   "metadata": {},
   "outputs": [
    {
     "name": "stdout",
     "output_type": "stream",
     "text": [
      "4.0\n",
      "3.141592653589793\n"
     ]
    }
   ],
   "source": [
    "from math import *\n",
    "print(sqrt(16))  # 输出: 4.0\n",
    "print(pi)        # 输出: 3.141592653589793"
   ]
  },
  {
   "cell_type": "markdown",
   "id": "5167f262",
   "metadata": {},
   "source": [
    "（5）还有很多方式。。。\n",
    "### 2、常用模块"
   ]
  },
  {
   "cell_type": "markdown",
   "id": "0016296b",
   "metadata": {},
   "source": [
    "(1) os：提供了一些与操作系统交互的功能"
   ]
  },
  {
   "cell_type": "code",
   "execution_count": 5,
   "id": "c4162dd8",
   "metadata": {},
   "outputs": [
    {
     "name": "stdout",
     "output_type": "stream",
     "text": [
      "None\n"
     ]
    }
   ],
   "source": [
    "import os\n",
    "# 读取环境变量\n",
    "api_key=os.getenv(\"OPENAI_BASE_URL\")\n",
    "print(api_key)"
   ]
  },
  {
   "cell_type": "markdown",
   "id": "b1b9c258",
   "metadata": {},
   "source": [
    "(2) math：提供了许多数学运算功能"
   ]
  },
  {
   "cell_type": "code",
   "execution_count": 6,
   "id": "98a03295",
   "metadata": {},
   "outputs": [
    {
     "name": "stdout",
     "output_type": "stream",
     "text": [
      "4.0\n",
      "2.0\n",
      "180.0\n"
     ]
    }
   ],
   "source": [
    "import math\n",
    "\n",
    "print(math.sqrt(16))        # 输出 4.0\n",
    "print(math.log10(100))      # 输出 2.0\n",
    "print(math.degrees(math.pi))  # 输出 180.0"
   ]
  },
  {
   "cell_type": "markdown",
   "id": "32685bb7",
   "metadata": {},
   "source": [
    "(3) copy：对象复制模块\n",
    "\n",
    "* copy.copy()：浅拷贝\n",
    "* copy.deepcopy()：深拷贝\n",
    "\n",
    "*python的浅拷贝和深拷贝内容有点复杂，建议看一下视频：【人工智能课程（Python预备）-课时21：20220423_3_浅拷贝&amp;深拷贝】*"
   ]
  },
  {
   "cell_type": "markdown",
   "id": "9f8a0113",
   "metadata": {},
   "source": [
    "(4) json：用于处理格式的数据\n",
    "- `json.dumps()`：将对象编码成 JSON 字符串\n",
    "- `json.loads()`：将 JSON 字符串解码成对象\n",
    "- `json.dump()`：将对象写入 JSON 文件\n",
    "- `json.load()`：从 JSON 文件读取数据"
   ]
  },
  {
   "cell_type": "code",
   "execution_count": 7,
   "id": "ec20f892",
   "metadata": {},
   "outputs": [
    {
     "name": "stdout",
     "output_type": "stream",
     "text": [
      "{\n",
      "    \"name\": \"Alice\",\n",
      "    \"age\": 30,\n",
      "    \"city\": \"New York\"\n",
      "}\n"
     ]
    }
   ],
   "source": [
    "import json\n",
    "\n",
    "data = {'name': 'Alice', 'age': 30, 'city': 'New York'}\n",
    "json_str = json.dumps(data, indent=4)\n",
    "print(json_str)"
   ]
  },
  {
   "cell_type": "code",
   "execution_count": 8,
   "id": "18f8b51e",
   "metadata": {},
   "outputs": [
    {
     "name": "stdout",
     "output_type": "stream",
     "text": [
      "{'name': 'Alice', 'age': 30, 'city': 'New York'}\n"
     ]
    }
   ],
   "source": [
    "data2 = json.loads(json_str)\n",
    "print(data2)"
   ]
  },
  {
   "cell_type": "code",
   "execution_count": 9,
   "id": "32e8d3d6",
   "metadata": {},
   "outputs": [],
   "source": [
    "with open('data.json', 'w') as file:\n",
    "    json.dump(data2, file, indent=4)"
   ]
  },
  {
   "cell_type": "code",
   "execution_count": 10,
   "id": "579a27c3",
   "metadata": {},
   "outputs": [
    {
     "name": "stdout",
     "output_type": "stream",
     "text": [
      "{'name': 'Alice', 'age': 30, 'city': 'New York'}\n"
     ]
    }
   ],
   "source": [
    "with open('data.json', 'r') as file:\n",
    "    data3 = json.load(file)\n",
    "print(data3)"
   ]
  },
  {
   "cell_type": "markdown",
   "id": "2103aa0d",
   "metadata": {},
   "source": [
    "### 3、格式化字符串字面量f-string\n",
    "- f-strings 通过在字符串前面加上字母 `f` 或 `F` 来创建。字符串中的花括号 `{}` 可以包含表达式，这些表达式会在运行时被求值，并替换为其对应的值。"
   ]
  },
  {
   "cell_type": "code",
   "execution_count": 11,
   "id": "c9ddddbb",
   "metadata": {},
   "outputs": [
    {
     "name": "stdout",
     "output_type": "stream",
     "text": [
      "我叫小明!\n",
      "\n",
      "姓名: 小明\n",
      "年龄: 18\n",
      "\n",
      "Pi is approximately 3.14.\n",
      "\n",
      "The sum of 5 and 10 is 15.\n",
      "\n",
      "我叫小明!\n",
      "None\n"
     ]
    }
   ],
   "source": [
    "# 1、单行文本\n",
    "name = \"小明\"\n",
    "print(f\"我叫{name}!\")  \n",
    "\n",
    "# 2、多行文本\n",
    "name = \"小明\"\n",
    "age = 18\n",
    "message = f\"\"\"\n",
    "姓名: {name}\n",
    "年龄: {age}\n",
    "\"\"\"\n",
    "print(message)\n",
    "\n",
    "# 4、格式化\n",
    "value = 3.14159\n",
    "print(f\"Pi is approximately {value:.2f}.\\n\")  \n",
    "\n",
    "\n",
    "# 5、使用表达式\n",
    "a = 5\n",
    "b = 10\n",
    "result = f\"The sum of {a} and {b} is {a + b}.\\n\"\n",
    "print(result) \n",
    "\n",
    "\n",
    "# 6、调用函数\n",
    "def greet(name):\n",
    "    print(f\"我叫{name}!\")\n",
    "\n",
    "name = \"小明\"\n",
    "print(f\"{greet(name)}\")"
   ]
  },
  {
   "cell_type": "markdown",
   "id": "87b0d67c",
   "metadata": {},
   "source": [
    "### 4、字符串操作\n",
    "- `replace(old, new, count)` 用于将一个子字符串替换为另一个子字符串，**方法不会改变原始字符串，因为 Python 的字符串是不可变的。**"
   ]
  },
  {
   "cell_type": "code",
   "execution_count": 12,
   "id": "507a1468",
   "metadata": {},
   "outputs": [
    {
     "name": "stdout",
     "output_type": "stream",
     "text": [
      "Hello, Python! Python is great!\n",
      "Hello, Python! World is great!\n"
     ]
    }
   ],
   "source": [
    "# 基本用法（默认会替换所有匹配的字符串）\n",
    "text = \"Hello, World! World is great!\"\n",
    "new_text = text.replace(\"World\", \"Python\")\n",
    "print(new_text)  # 输出: Hello, Python! Python is great!\n",
    "\n",
    "# 指定替换次数\n",
    "text = \"Hello, World! World is great!\"\n",
    "new_text = text.replace(\"World\", \"Python\", 1)\n",
    "print(new_text)  # 输出: Hello, Python! Wython is great!"
   ]
  },
  {
   "cell_type": "markdown",
   "id": "65a73248",
   "metadata": {},
   "source": [
    "- `upper()` & `lower()` : 字符串转大写 & 小写"
   ]
  },
  {
   "cell_type": "code",
   "execution_count": 13,
   "id": "1a1d118a",
   "metadata": {},
   "outputs": [
    {
     "name": "stdout",
     "output_type": "stream",
     "text": [
      "HELLO, WORLD!\n",
      "hello, world!\n"
     ]
    }
   ],
   "source": [
    "text = \"Hello, world!\"\n",
    "print(text.upper())  # 输出: HELLO, WORLD!\n",
    "print(text.lower())  # 输出: hello, world!"
   ]
  },
  {
   "cell_type": "markdown",
   "id": "bb7deb0c",
   "metadata": {},
   "source": [
    "### 5、Python函数定义\n",
    "（1）基本函数定义：其中的name称为**位置参数**"
   ]
  },
  {
   "cell_type": "code",
   "execution_count": 14,
   "id": "5031d470",
   "metadata": {},
   "outputs": [
    {
     "name": "stdout",
     "output_type": "stream",
     "text": [
      "我叫小明!\n"
     ]
    }
   ],
   "source": [
    "def greet(name):\n",
    "    print(f\"我叫{name}!\")\n",
    "\n",
    "# 调用函数\n",
    "greet(\"小明\")  "
   ]
  },
  {
   "cell_type": "markdown",
   "id": "70258c13",
   "metadata": {},
   "source": [
    "（2）带**默认参数**的函数"
   ]
  },
  {
   "cell_type": "code",
   "execution_count": 15,
   "id": "3af92e52",
   "metadata": {},
   "outputs": [
    {
     "name": "stdout",
     "output_type": "stream",
     "text": [
      "我叫小红!\n",
      "我叫小明!\n"
     ]
    }
   ],
   "source": [
    "def greet(name=\"小红\"):\n",
    "    print(f\"我叫{name}!\")\n",
    "  \n",
    "greet()        \n",
    "greet(\"小明\")  "
   ]
  },
  {
   "cell_type": "markdown",
   "id": "689cd601",
   "metadata": {},
   "source": [
    "（3）带可变数量**位置参数**的函数`*args`: 用于传递可变数量的位置参数给函数。这些参数会被收集成一个**元组**，函数可以通过这个元组来访问所有传递的位置参数。"
   ]
  },
  {
   "cell_type": "code",
   "execution_count": 16,
   "id": "d1533a03",
   "metadata": {},
   "outputs": [
    {
     "name": "stdout",
     "output_type": "stream",
     "text": [
      "我叫张三!\n",
      "我叫李四!\n",
      "我叫王五!\n"
     ]
    }
   ],
   "source": [
    "def greet(*names):\n",
    "    for name in names:\n",
    "        print(f\"我叫{name}!\")\n",
    "\n",
    "greet(\"张三\", \"李四\", \"王五\")"
   ]
  },
  {
   "cell_type": "markdown",
   "id": "212f3150",
   "metadata": {},
   "source": [
    "（4）带可变数量**关键字参数**的函数`**kwargs`：在函数定义中使用 `**kwargs` 可以让函数接受任意数量的关键字参数，并将这些参数以**字典**的形式传递给函数。"
   ]
  },
  {
   "cell_type": "code",
   "execution_count": 17,
   "id": "d855ce79",
   "metadata": {},
   "outputs": [
    {
     "name": "stdout",
     "output_type": "stream",
     "text": [
      "name = Alice\n",
      "age = 30\n",
      "city = New York\n"
     ]
    }
   ],
   "source": [
    "def greet(**kwargs):\n",
    "    # kwargs 是一个字典，包含所有传递的关键字参数\n",
    "    for key, value in kwargs.items():\n",
    "        print(f\"{key} = {value}\")\n",
    "\n",
    "# 调用函数，并传递多个关键字参数\n",
    "greet(name=\"Alice\", age=30, city=\"New York\")"
   ]
  },
  {
   "cell_type": "markdown",
   "id": "49f9861e",
   "metadata": {},
   "source": [
    "（5）不同类型的参数的摆放位置有**严格要求**，顺序如下：\n",
    "\n",
    "* 位置参数必须在所有其他参数之前\n",
    "* 默认参数必须在位置参数之后，但在 `*args` 之前\n",
    "* `*args` 必须在所有位置参数和默认参数之后\n",
    "* `**kwargs` 必须在所有其他参数之后"
   ]
  },
  {
   "cell_type": "code",
   "execution_count": 18,
   "id": "167d9e32",
   "metadata": {},
   "outputs": [
    {
     "name": "stdout",
     "output_type": "stream",
     "text": [
      "a = 1\n",
      "b = 3\n",
      "args = (4, 5)\n",
      "kwargs = {'name': 'Alice', 'age': 30}\n"
     ]
    }
   ],
   "source": [
    "def example_function(a, b=2, *args, **kwargs):\n",
    "    print(f\"a = {a}\")\n",
    "    print(f\"b = {b}\")\n",
    "    print(f\"args = {args}\")\n",
    "    print(f\"kwargs = {kwargs}\")\n",
    "\n",
    "example_function(1, 3, 4, 5, name=\"Alice\", age=30)\n",
    "\n",
    "# 注意：b不是2"
   ]
  },
  {
   "cell_type": "markdown",
   "id": "a69b0bb3",
   "metadata": {},
   "source": [
    "**注意：b不是2**"
   ]
  },
  {
   "cell_type": "markdown",
   "id": "53a8c92a",
   "metadata": {},
   "source": [
    "（6）提高函数定义的可读性"
   ]
  },
  {
   "cell_type": "code",
   "execution_count": 19,
   "id": "3626bd85",
   "metadata": {},
   "outputs": [
    {
     "name": "stdout",
     "output_type": "stream",
     "text": [
      "我叫小明，今年18岁\n"
     ]
    }
   ],
   "source": [
    "def greet(name: str, age: int):\n",
    "    print(f\"我叫{name}，今年{age}岁\")\n",
    "greet(\"小明\",  18)\n",
    "# 输出：我叫小明，今年18岁"
   ]
  },
  {
   "cell_type": "markdown",
   "id": "7e951eb3",
   "metadata": {},
   "source": [
    "### 6、类的定义"
   ]
  },
  {
   "cell_type": "code",
   "execution_count": 20,
   "id": "eb185e13",
   "metadata": {},
   "outputs": [],
   "source": [
    "class NLU:\n",
    "    def __init__(self):\n",
    "        self.prompt_template = f\"{instruction}\\n\\n{output_format}\\n\\n{examples}\\n\\n用户输入：\\n__INPUT__\"\n",
    "\n",
    "    def _get_completion(self, prompt, model=\"gpt-3.5-turbo\"):\n",
    "        messages = [{\"role\": \"user\", \"content\": prompt}]\n",
    "        response = client.chat.completions.create(\n",
    "            model=model,\n",
    "            messages=messages,\n",
    "            temperature=0,  # 模型输出的随机性，0 表示随机性最小\n",
    "        )\n",
    "        semantics = json.loads(response.choices[0].message.content)\n",
    "        return {k: v for k, v in semantics.items() if v}\n",
    "\n",
    "    def parse(self, user_input):\n",
    "        prompt = self.prompt_template.replace(\"__INPUT__\", user_input)\n",
    "        return self._get_completion(prompt)\n",
    "\n",
    "    def do_nothing(self):\n",
    "        pass"
   ]
  },
  {
   "cell_type": "markdown",
   "id": "03a45cc1",
   "metadata": {},
   "source": [
    "* `class`是类的关键字，NLU是类名，后面没有()\n",
    "* `__init__(self) `: 类的初始化方法，在创建对象时被调用，用于初始化对象的属性。`self`参数指向当前对象的实例（类似于Java中的this关键字）\n",
    "* 每个类方法中必须包含`self`关键字，调用对象属性和方法时，必须使用`self.xxx`\n",
    "* 方法命名约定：\n",
    "\n",
    "  * 以双下划线`__`开头：私有的方法\n",
    "  * 以单下划线`_`开头：受保护的方法\n",
    "  * 没有下划线开头：公共的方法\n",
    "  * **这种约定没有强制，但它是一种良好的编程习惯，有助于代码的可读性和可维护性**\n",
    "  * Python推荐使用**下划线分割法**（又称蛇形命名法，snake_case）来命名函数和方法，而不是驼峰法。\n",
    "* `pass`关键字：用于表示一个空的代码块，在逻辑上不做任何操作\n",
    "* `{k: v for k, v in semantics.items() if v}` 字典推导式：\n",
    "\n",
    "  * `semantics.items()`：`semantics`是一个字典。`semantics.items()`返回一个包含该字典所有键值对的视图对象，每个元素是一个包含键和值的元组。\n",
    "  * `for k, v in semantics.items()`：遍历字典`semantics`的所有键值对。`k`是键，`v`是值。\n",
    "  * `if v`：仅当值`v`为真时 **（即值不为**​**​`None`​**​ **、空字符串、0、空列表等）** ，才将该键值对包括在新字典中。\n",
    "  * `{k: v ...}`：生成一个新字典，其中包含满足条件的键值对。\n",
    "  * **总得来说**：这段代码是从字典`semantics`中筛选出所有值为真的键值对，生成一个新的字典。"
   ]
  },
  {
   "cell_type": "markdown",
   "id": "b2df97eb",
   "metadata": {},
   "source": [
    "### 7、排序函数\n",
    "- `sorted()`：用于返回一个新的已排序列表。它不会改变原来的列表，而是生成一个新的列表。语法：`sorted(iterable, key=None, reverse=False)`"
   ]
  },
  {
   "cell_type": "code",
   "execution_count": 21,
   "id": "ec013229",
   "metadata": {},
   "outputs": [
    {
     "name": "stdout",
     "output_type": "stream",
     "text": [
      "[1, 1, 2, 3, 3, 4, 5, 5, 5, 6, 9]\n"
     ]
    }
   ],
   "source": [
    "numbers = [3, 1, 4, 1, 5, 9, 2, 6, 5, 3, 5]\n",
    "sorted_numbers = sorted(numbers)\n",
    "print(sorted_numbers)  # 输出: [1, 1, 2, 3, 3, 4, 5, 5, 5, 6, 9]"
   ]
  },
  {
   "cell_type": "markdown",
   "id": "8d03b057",
   "metadata": {},
   "source": [
    "- `list.sort()`：用于就地排序列表，也就是说它会改变原列表的顺序，而不会返回新的列表。语法：`list.sort(key=None, reverse=False)`"
   ]
  },
  {
   "cell_type": "code",
   "execution_count": 22,
   "id": "579c55ad",
   "metadata": {},
   "outputs": [
    {
     "name": "stdout",
     "output_type": "stream",
     "text": [
      "[9, 6, 5, 5, 5, 4, 3, 3, 2, 1, 1]\n"
     ]
    }
   ],
   "source": [
    "numbers = [3, 1, 4, 1, 5, 9, 2, 6, 5, 3, 5]\n",
    "numbers.sort(reverse=True)\n",
    "print(numbers)  # 输出: [9, 6, 5, 5, 5, 4, 3, 3, 2, 1, 1]"
   ]
  },
  {
   "cell_type": "markdown",
   "id": "5a870908",
   "metadata": {},
   "source": [
    "#### 案例：`sorted(records, key=lambda x: x[key], reverse=reverse)`\n",
    "\n",
    "* `records`是一个字典列表，形如\n",
    "\n",
    "  ```python\n",
    "  [\n",
    "  {\"name\": \"经济套餐\", \"price\": 50, \"data\": 10, \"requirement\": None},\n",
    "  {\"name\": \"畅游套餐\", \"price\": 180, \"data\": 100, \"requirement\": None}\n",
    "  ]\n",
    "  ```\n",
    "* `key=lambda x: x[key]`\n",
    "\n",
    "  * 这里的**第一个** `key` 参数用于指定排序的依据。`lambda x: x[key]` 是一个匿名函数（或称为 lambda 表达式），它接受一个列表中的元素 `x` 作为输入，并返回 `x[key]` 作为排序的关键值。\n",
    "  * 例如，如果**第二个** `key` 的值是 `\"price\"`，那么 `lambda x: x[\"price\"]` 就会返回记录中 `\"price\"` 键对应的值，这些值将被用于排序。\n",
    "* `reverse`是否倒序排序的参数"
   ]
  },
  {
   "cell_type": "markdown",
   "id": "b14cbcf3",
   "metadata": {},
   "source": [
    "### 8、eval()函数\n",
    "- 是 Python 内置的一个函数，用于动态地执行存储在字符串中的 Python 表达式或代码。\n",
    "- `eval()` 的使用可能会带来安全风险，因为它可以执行任何字符串中的代码，包括恶意代码。\n",
    "- `eval()` 的使用可能会影响性能，因为它需要在运行时解析和执行代码。"
   ]
  },
  {
   "cell_type": "code",
   "execution_count": 23,
   "id": "453e9123",
   "metadata": {},
   "outputs": [
    {
     "name": "stdout",
     "output_type": "stream",
     "text": [
      "15\n"
     ]
    }
   ],
   "source": [
    "x = 10\n",
    "expression = \"x + 5\"\n",
    "result = eval(expression)\n",
    "print(result)  # 输出 15"
   ]
  },
  {
   "cell_type": "markdown",
   "id": "e7679929",
   "metadata": {},
   "source": [
    "### 9、OpenAI Chat Completions API的几个重要参数\n",
    "> [API Reference - OpenAI API](https://platform.openai.com/docs/api-reference/chat/create)\n",
    "\n",
    "\n",
    "| 参数名 | 子参数 | 类型 | 必填 | 说明                                                                                                 |\n",
    "| :------- | -------- | :----- | :----- | :----------------------------------------------------------------------------------------------------- |\n",
    "| **​`model`​**       |        | `string`     | ✔️ | 要使用的模型名称例如 `\"gpt-4\"`, `\"gpt-3.5-turbo\"`                                                                              |\n",
    "| **​`messages`​**       |        | `array`     | ✔️ | 消息对象数组，每个对象表示一次对话的轮次。                                                           |\n",
    "| <br />     | `role`       | `string`     | ✔️ | 消息的角色，可能的值为 `\"system\"`, `\"user\"`, `\"assistant\"`, `\"function\"`                                                                        |\n",
    "|        | `content`       | `string`     | ✔️ | 消息的内容                                                                                           |\n",
    "| **​`temperature`​**       |        | `number`     |      | 用于控制生成文本的随机性，越大越随机，越小越固定。取值范围[0, 2],默认值为 1。                        |\n",
    "| **​`max_tokens`​**       |        | `integer`     |      | 每条结果最多多少个 token（超过截断）                                                                 |\n",
    "| `stream`       | <br />     | `boolean`     |      | 是否以数据流模式返回消息，默认值为 False。                                                           |\n",
    "| `top_p`       |        | `number`     |      | 随机采样时，只考虑概率前百分之多少的 token。不建议和 temperature 一起使用，值范围[0,1]。默认值为 1。 |\n",
    "| `n`       |        | `integer`     |      | 一次生成 n 条结果，默认值1                                                                           |\n",
    "| `presence_penalty`       |        | `number`     |      | 对出现过的 token 的概率进行降权，默认值0                                                             |\n",
    "| `frequency_penalty`       |        | `number`     |      | 对出现过的 token 根据其出现过的频次，对其的概率进行降权， 默认值0                                    |\n",
    "| `logit_bias`       |        | `map`     |      | 对指定 token 的采样概率手工加/降权，不常用                                                           |"
   ]
  },
  {
   "cell_type": "code",
   "execution_count": 24,
   "id": "c83323c3",
   "metadata": {},
   "outputs": [],
   "source": [
    "def get_completion(prompt, model=\"gpt-4\", temperature=0):\n",
    "    messages = [{\"role\": \"user\", \"content\": prompt}]\n",
    "    response = client.chat.completions.create(\n",
    "        model=model,\n",
    "        messages=messages,\n",
    "        temperature=temperature  # 模型输出的随机性，0 表示随机性最小\n",
    "    )\n",
    "    return response.choices[0].message.content"
   ]
  },
  {
   "cell_type": "code",
   "execution_count": null,
   "id": "34e638ae",
   "metadata": {},
   "outputs": [],
   "source": []
  }
 ],
 "metadata": {
  "kernelspec": {
   "display_name": "Python 3 (ipykernel)",
   "language": "python",
   "name": "python3"
  },
  "language_info": {
   "codemirror_mode": {
    "name": "ipython",
    "version": 3
   },
   "file_extension": ".py",
   "mimetype": "text/x-python",
   "name": "python",
   "nbconvert_exporter": "python",
   "pygments_lexer": "ipython3",
   "version": "3.9.13"
  }
 },
 "nbformat": 4,
 "nbformat_minor": 5
}
