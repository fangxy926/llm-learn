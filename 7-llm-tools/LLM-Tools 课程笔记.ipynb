{
 "cells": [
  {
   "cell_type": "markdown",
   "id": "34ee8ce2-4b03-4b57-b85d-b4fb6db26570",
   "metadata": {},
   "source": [
    "# 💡 这节课会带给你"
   ]
  },
  {
   "cell_type": "markdown",
   "id": "bcfbc193-f8fc-4e18-85e7-45d3e8a6383a",
   "metadata": {},
   "source": [
    "1. 系统性维护、测试、监控一个 LLM 应用\n",
    "2. 学习使用主流的工具完成上述工作"
   ]
  },
  {
   "cell_type": "markdown",
   "id": "9fe2fb93-5991-48e1-898b-a48ebfda9481",
   "metadata": {},
   "source": [
    "## 维护一个生产级的 LLM 应用，我们需要做什么？"
   ]
  },
  {
   "cell_type": "markdown",
   "id": "7cb536c0-3997-457a-b360-62fbbc910454",
   "metadata": {},
   "source": [
    "1. 各种指标监控与统计：访问记录、响应时长、Token用量、计费等等\n",
    "2. 调试 Prompt\n",
    "3. 测试/验证系统的相关评估指标\n",
    "4. 数据集管理（便于回归测试）\n",
    "5. Prompt 版本管理（便于升级/回滚）"
   ]
  },
  {
   "cell_type": "markdown",
   "id": "5579d2ef-95ed-4e05-a025-940434a88100",
   "metadata": {},
   "source": [
    "## 针对以上需求，我们介绍三个生产级 LLM App 维护平台"
   ]
  },
  {
   "cell_type": "markdown",
   "id": "9adb8637-fd33-438c-bfba-5acc62ff8500",
   "metadata": {},
   "source": [
    "1. 重点讲解 **LangFuse**: 开源 + SaaS，LangSmith 平替，可集成 LangChain 也可直接对接 OpenAI API；\n",
    "2. 简单讲解 **LangSmith**: LangChain 的官方平台，SaaS 服务，非开源\n",
    "3. 简单讲解 **Prompt Flow**：微软开发，开源 + Azure AI云服务，可集成 Semantic Kernel（但貌合神离）。"
   ]
  },
  {
   "cell_type": "markdown",
   "id": "fd4068b0-b4bc-42a3-864e-47e019130832",
   "metadata": {},
   "source": [
    "## 1、LangFuse"
   ]
  },
  {
   "cell_type": "markdown",
   "id": "d8a821ce-8be3-40d2-bb30-7ae9f0e0c7a8",
   "metadata": {},
   "source": [
    "开源，支持 LangChain 集成或原生 OpenAI API 集成\n",
    "\n",
    "官方网站：https://langfuse.com/\n",
    "\n",
    "项目地址：https://github.com/langfuse"
   ]
  },
  {
   "cell_type": "markdown",
   "id": "b66c22be-791e-4c1d-858f-4202a4a51786",
   "metadata": {},
   "source": [
    "1. 通过官方云服务使用：注册: cloud.langfuse.com，创建 API Key，并添加如下配置\n",
    "```sh\n",
    "LANGFUSE_SECRET_KEY=\"sk-lf-...\"\n",
    "LANGFUSE_PUBLIC_KEY=\"pk-lf-...\"\n",
    "# 官方服务器\n",
    "LANGFUSE_HOST=\"https://us.cloud.langfuse.com\" \n",
    "```"
   ]
  },
  {
   "cell_type": "markdown",
   "id": "a84ccf21-e6d5-4269-9930-e936b3d081e1",
   "metadata": {},
   "source": [
    "2. 通过 Docker 本地部署"
   ]
  },
  {
   "cell_type": "markdown",
   "id": "c1a84beb-14f1-466c-bd29-c1dc4d1b9e40",
   "metadata": {},
   "source": [
    "```sh\n",
    "# Clone repository\n",
    "git clone https://github.com/langfuse/langfuse.git\n",
    "cd langfuse\n",
    " \n",
    "# Run server and db\n",
    "docker compose up -d\n",
    "```"
   ]
  },
  {
   "cell_type": "code",
   "execution_count": null,
   "id": "b75383b1-fa32-4456-8c58-9ebdd6cf841b",
   "metadata": {},
   "outputs": [],
   "source": [
    "!pip install --upgrade langfuse"
   ]
  },
  {
   "cell_type": "markdown",
   "id": "7e0349c3-75e6-406f-aa45-7477d1557fc3",
   "metadata": {},
   "source": [
    "### 1.1 通过 LangChain 的回调集成"
   ]
  },
  {
   "cell_type": "code",
   "execution_count": 6,
   "id": "6c47782b-9b28-4490-907a-0aa54f0b3e27",
   "metadata": {},
   "outputs": [
    {
     "data": {
      "text/plain": [
       "True"
      ]
     },
     "execution_count": 6,
     "metadata": {},
     "output_type": "execute_result"
    }
   ],
   "source": [
    "from dotenv import find_dotenv, load_dotenv\n",
    "_ = load_dotenv(find_dotenv())\n",
    "\n",
    "from langfuse.callback import CallbackHandler\n",
    "\n",
    "langfuse_handler = CallbackHandler()\n",
    "\n",
    "# 检查是否可用\n",
    "langfuse_handler.auth_check()"
   ]
  },
  {
   "cell_type": "code",
   "execution_count": 8,
   "id": "ee41e249-1151-440b-bba0-334cd024b9f7",
   "metadata": {},
   "outputs": [
    {
     "data": {
      "text/plain": [
       "'Hello AGIClass! How can I assist you today?'"
      ]
     },
     "execution_count": 8,
     "metadata": {},
     "output_type": "execute_result"
    }
   ],
   "source": [
    "from langchain_openai import ChatOpenAI\n",
    "from langchain.prompts import PromptTemplate\n",
    "from langchain.schema.output_parser import StrOutputParser\n",
    "from langchain.schema.runnable import RunnablePassthrough\n",
    "\n",
    "from langchain.schema import HumanMessage\n",
    "from langchain.prompts.chat import HumanMessagePromptTemplate\n",
    "from langchain.prompts import ChatPromptTemplate\n",
    "\n",
    "model = ChatOpenAI(model=\"gpt-3.5-turbo\")\n",
    "\n",
    "prompt = ChatPromptTemplate.from_messages([\n",
    "    HumanMessagePromptTemplate.from_template(\"Say hello to {input}!\") \n",
    "])\n",
    "\n",
    "\n",
    "# 定义输出解析器\n",
    "parser = StrOutputParser()\n",
    "\n",
    "# 定义Chain\n",
    "chain = (\n",
    "    {\"input\":RunnablePassthrough()} \n",
    "    | prompt\n",
    "    | model\n",
    "    | parser\n",
    ")\n",
    "\n",
    "chain.invoke(input=\"AGIClass\", config={\"callbacks\":[langfuse_handler]})"
   ]
  },
  {
   "cell_type": "markdown",
   "id": "d1b67f7a-6c4b-4c90-86fa-2f052e732087",
   "metadata": {},
   "source": [
    "### 1.2、Trace\n",
    "- 一个Trace相当于一轮对话\n",
    "- 用 Trace 可以记录一个多次调用 LLM 的过程\n",
    "\n",
    "\n",
    " 以下面应用为例：\n",
    "\n",
    "**AGI课堂跟课助手**，根据课程内容，判断学生问题是否需要老师解答\n",
    "\n",
    "1. 判断该问题是否需要老师解答，回复'Y'或'N'\n",
    "2. 判断该问题是否已有同学问过"
   ]
  },
  {
   "cell_type": "code",
   "execution_count": 11,
   "id": "e216f6d0-88cb-4bdb-bc1d-3bd932b7d4d8",
   "metadata": {},
   "outputs": [],
   "source": [
    "# 构建 PromptTemplate\n",
    "from langchain.prompts import PromptTemplate\n",
    "\n",
    "need_answer_prompt=PromptTemplate.from_template(\"\"\"\n",
    "*********\n",
    "你是AIGC课程的助教，你的工作是从学员的课堂交流中选择出需要老师回答的问题，加以整理以交给老师回答。\n",
    " \n",
    "课程内容:\n",
    "{outlines}\n",
    "*********\n",
    "学员输入:\n",
    "{user_input}\n",
    "*********\n",
    "如果这是一个需要老师答疑的问题，回复Y，否则回复N。\n",
    "只回复Y或N，不要回复其他内容。\"\"\")\n",
    "\n",
    "check_duplicated_prompt=PromptTemplate.from_template(\"\"\"\n",
    "*********\n",
    "已有提问列表:\n",
    "[\n",
    "{question_list}\n",
    "]\n",
    "*********\n",
    "新提问:\n",
    "{user_input}\n",
    "*********\n",
    "已有提问列表是否有和新提问类似的问题? 回复Y或N, Y表示有，N表示没有。\n",
    "只回复Y或N，不要回复其他内容。\"\"\")"
   ]
  },
  {
   "cell_type": "code",
   "execution_count": 12,
   "id": "c4ac9d67-725c-43bc-a08b-cb2e187bd060",
   "metadata": {},
   "outputs": [],
   "source": [
    "outlines=\"\"\"\n",
    "LangChain\n",
    "模型 I/O 封装\n",
    "模型的封装\n",
    "模型的输入输出\n",
    "PromptTemplate\n",
    "OutputParser\n",
    "数据连接封装\n",
    "文档加载器：Document Loaders\n",
    "文档处理器\n",
    "内置RAG：RetrievalQA\n",
    "记忆封装：Memory\n",
    "链架构：Chain/LCEL\n",
    "大模型时代的软件架构：Agent\n",
    "ReAct\n",
    "SelfAskWithSearch\n",
    "Assistants API\n",
    "LangServe\n",
    "LangChain.js\n",
    "\"\"\"\n",
    "\n",
    "question_list=[\n",
    "    \"谢谢老师\",\n",
    "    \"LangChain开源吗\",\n",
    "]"
   ]
  },
  {
   "cell_type": "code",
   "execution_count": 14,
   "id": "15cc8923-701f-4fe9-91e8-68a2cf723880",
   "metadata": {},
   "outputs": [],
   "source": [
    "# 创建 chain\n",
    "model = ChatOpenAI(temperature=0)\n",
    "parser = StrOutputParser()\n",
    "\n",
    "chain1 = (\n",
    "    need_answer_prompt\n",
    "    | model\n",
    "    | parser\n",
    ")\n",
    "\n",
    "chain2 = (\n",
    "    check_duplicated_prompt\n",
    "    | model\n",
    "    | parser\n",
    ")"
   ]
  },
  {
   "cell_type": "code",
   "execution_count": 15,
   "id": "0de918b2-9e99-479d-8035-f838972ee152",
   "metadata": {},
   "outputs": [],
   "source": [
    "import uuid\n",
    "from langfuse.client import Langfuse\n",
    "\n",
    "# 创建一个新trace\n",
    "def create_trace(user_id):\n",
    "    langfuse = Langfuse()\n",
    "    trace_id = str(uuid.uuid4())\n",
    "    trace = langfuse.trace(name=\"assistant\", id=trace_id, user_id=user_id)\n",
    "    return trace\n",
    "\n",
    "# 主流程\n",
    "def verify_question(question: str, outlines: str, question_list: list, user_id: str) -> bool:\n",
    "    trace = create_trace(user_id)\n",
    "    handler = trace.get_langchain_handler()\n",
    "    # 判断是否需要回答\n",
    "    if chain1.invoke({\"user_input\":question,\"outlines\": outlines},config={\"callbacks\":[handler]}) == 'Y':\n",
    "        # 判断是否为重复问题\n",
    "        if chain2.invoke({\"user_input\":question,\"question_list\": \"\\n\".join(question_list)},config={\"callbacks\":[handler]}) == 'N':\n",
    "            question_list.append(question)\n",
    "            return True\n",
    "    return False"
   ]
  },
  {
   "cell_type": "code",
   "execution_count": 16,
   "id": "c5ff6685-2a26-467b-9a2a-0497833d9162",
   "metadata": {},
   "outputs": [
    {
     "name": "stdout",
     "output_type": "stream",
     "text": [
      "True\n"
     ]
    }
   ],
   "source": [
    "# 实际调用\n",
    "ret = verify_question(\n",
    "    \"LangChain支持Java吗\",\n",
    "    outlines,\n",
    "    question_list,\n",
    "    user_id=\"fxy\",\n",
    ")\n",
    "print(ret)"
   ]
  },
  {
   "cell_type": "markdown",
   "id": "2d524756",
   "metadata": {},
   "source": [
    "<img src=\"langfuse1.png\" width=\"1000px\">\n",
    "\n",
    "<img src=\"trace-detail.png\" width=\"1000px\">"
   ]
  },
  {
   "cell_type": "markdown",
   "id": "26bb2e27-4c18-424c-99dd-b3c02c29dfcb",
   "metadata": {},
   "source": [
    "### 1.3、Session\n",
    "\n",
    "- 用 Session 记录一个用户的多轮对话"
   ]
  },
  {
   "cell_type": "code",
   "execution_count": 17,
   "id": "c0c37548-2b93-404e-b4c3-e65d7e9ac019",
   "metadata": {},
   "outputs": [
    {
     "name": "stdout",
     "output_type": "stream",
     "text": [
      "User: 你好\n",
      "AI: 你好！有什么我可以帮助你的吗？\n",
      "User: 你可以干什么？\n",
      "AI: 我可以帮助你解答问题、提供学习资源、解释课程内容、协助作业或项目，以及提供一般性的学习建议。如果你有具体的需求或问题，请告诉我！\n",
      "User: \n"
     ]
    }
   ],
   "source": [
    "import uuid\n",
    "from langchain_openai import ChatOpenAI\n",
    "from langchain.schema import (AIMessage, HumanMessage, SystemMessage)\n",
    "\n",
    "llm = ChatOpenAI()\n",
    "\n",
    "messages = [\n",
    "    SystemMessage(content=\"你是AGIClass的课程助理。\"), \n",
    "]\n",
    "\n",
    "handler = CallbackHandler(user_id=\"fxy\", trace_name=\"session_test\",session_id=str(uuid.uuid4()))\n",
    "\n",
    "while True:\n",
    "    user_input=input(\"User: \")\n",
    "    if user_input.strip() == \"\":\n",
    "        break\n",
    "    messages.append(HumanMessage(content=user_input))\n",
    "    response = llm.invoke(messages,config={\"callbacks\":[handler]})\n",
    "    print(\"AI: \"+response.content)\n",
    "    messages.append(response)"
   ]
  },
  {
   "cell_type": "markdown",
   "id": "7f42090e",
   "metadata": {},
   "source": [
    "<img src=\"session.png\" width=\"1000px\">"
   ]
  },
  {
   "cell_type": "markdown",
   "id": "c529d3b7-91f2-41fa-a090-04f4746e72d0",
   "metadata": {},
   "source": [
    "### 1.4、数据集与测试\n",
    "\n",
    "利用用户聊天数据集和回归测试功能不断优化我们的大模型代码"
   ]
  },
  {
   "cell_type": "markdown",
   "id": "a4507fd3-616e-45be-9d0f-49ae347019b7",
   "metadata": {},
   "source": [
    "### 1.4.1、在线标注\n",
    "\n",
    "1. 创建一个数据集\n",
    "\n",
    "<img src=\"create_dataset.png\" width=\"1000px\">\n",
    "\n",
    "2. 将一条Trace加入数据集\n",
    "\n",
    "<img src=\"add_to_dataset.png\" width=\"1000px\">"
   ]
  },
  {
   "cell_type": "markdown",
   "id": "43fe4c35-fba3-49d9-ae9e-9d2bdffb7b0b",
   "metadata": {},
   "source": [
    "### 1.4.2、上传已有数据集"
   ]
  },
  {
   "cell_type": "code",
   "execution_count": 25,
   "id": "ef67abc0-09d9-4548-92e8-158ed23f77c4",
   "metadata": {},
   "outputs": [],
   "source": [
    "import json\n",
    "\n",
    "data = []\n",
    "with open('example_dataset.jsonl','r',encoding='utf-8') as fp:\n",
    "    for line in fp:\n",
    "        example = json.loads(line.strip())\n",
    "        item = {\n",
    "            \"question\": example[\"question\"],\n",
    "            \"answer\": example[\"answer\"]\n",
    "        }\n",
    "        data.append(item)"
   ]
  },
  {
   "cell_type": "code",
   "execution_count": 27,
   "id": "156368ef-50aa-449f-922b-5a7ffd73f86a",
   "metadata": {},
   "outputs": [
    {
     "name": "stderr",
     "output_type": "stream",
     "text": [
      "100%|██████████████████████████████████████████████████████████████████████████████████| 50/50 [00:29<00:00,  1.72it/s]\n"
     ]
    }
   ],
   "source": [
    "from langfuse import Langfuse\n",
    "from langfuse.model import CreateDatasetRequest, CreateDatasetItemRequest\n",
    "from tqdm import tqdm\n",
    "\n",
    "# init\n",
    "langfuse = Langfuse()\n",
    "\n",
    "# 考虑演示运行速度，只上传前50条数据\n",
    "for item in tqdm(data[:50]):\n",
    "    langfuse.create_dataset_item(\n",
    "        dataset_name=\"test_dataset\",\n",
    "        input=item[\"question\"],\n",
    "        expected_output=item[\"answer\"]\n",
    "    )"
   ]
  },
  {
   "cell_type": "markdown",
   "id": "260b9e3b-0684-4273-b2af-2919c077b059",
   "metadata": {},
   "source": [
    "### 1.4.3、定义评估函数"
   ]
  },
  {
   "cell_type": "code",
   "execution_count": 28,
   "id": "c6155790-14c6-4931-b8c1-1c8de93538f3",
   "metadata": {},
   "outputs": [],
   "source": [
    "def simple_evaluation(output, expected_output):\n",
    "  return output == expected_output"
   ]
  },
  {
   "cell_type": "markdown",
   "id": "cc85360b-ab9a-4fac-919b-c84b691e760c",
   "metadata": {},
   "source": [
    "如何比较两个句子的相似性：一些经典 NLP 的评测方法（选）"
   ]
  },
  {
   "cell_type": "markdown",
   "id": "4b2ea3a5-e750-4a21-a092-a7d1cadf1a21",
   "metadata": {},
   "source": [
    "1. **编辑距离**：也叫莱文斯坦距离(Levenshtein),是针对二个字符串的差异程度的量化量测，量测方式是看至少需要多少次的处理才能将一个字符串变成另一个字符串。\n",
    "   - 具体计算过程是一个动态规划算法：https://zhuanlan.zhihu.com/p/164599274\n",
    "   - 衡量两个句子的相似度时，可以以词为单位计算\n",
    "2. **BLEU Score**:\n",
    "   - 计算输出与参照句之间的 n-gram 准确率（n=1...4）\n",
    "   - 对短输出做惩罚\n",
    "   - 在整个测试集上平均下述值\n",
    "   - 完整计算公式：$\\mathrm{BLEU}_4=\\min\\left(1,\\frac{output-length}{reference-length}\\right)\\left(\\prod_{i=1}^4 precision_i\\right)^{\\frac{1}{4}}$\n",
    "   - 函数库：https://www.nltk.org/_modules/nltk/translate/bleu_score.html\n",
    "3. **Rouge Score**:\n",
    "   - Rouge-N：将模型生成的结果和标准结果按 N-gram 拆分后，只计算召回率；\n",
    "   - Rouge-L: 利用了最长公共子序列（Longest Common Sequence），计算：$P=\\frac{LCS(c,r)}{len(c)}$, $R=\\frac{LCS(c,r)}{len(r)}$, $F=\\frac{(1+\\beta^2)PR}{R+\\beta^2P}$\n",
    "   - 函数库：https://pypi.org/project/rouge-score/\n",
    "   - 对比 BLEU 与 ROUGE：\n",
    "     - BLEU 能评估流畅度，但指标偏向于较短的翻译结果（brevity penalty 没有想象中那么强）\n",
    "     - ROUGE 不管流畅度，所以只适合深度学习的生成模型：结果都是流畅的前提下，ROUGE 反应参照句中多少内容被生成的句子包含（召回）\n",
    "5. **METEOR**: 另一个从机器翻译领域借鉴的指标。与 BLEU 相比，METEOR 考虑了更多的因素，如同义词匹配、词干匹配、词序等，因此它通常被认为是一个更全面的评价指标。\n",
    "   - 对语言学和语义词表有依赖，所以对语言依赖强。"
   ]
  },
  {
   "cell_type": "markdown",
   "id": "f35ef8d5-cc46-4350-8c9a-03ab54c08a26",
   "metadata": {},
   "source": [
    "### 1.4.4、运行测试"
   ]
  },
  {
   "cell_type": "markdown",
   "id": "c1ee1c5a-f3ac-4024-89ab-3d54b877b845",
   "metadata": {},
   "source": [
    "Prompt 模板与 Chain（LCEL）"
   ]
  },
  {
   "cell_type": "code",
   "execution_count": 30,
   "id": "bd0c5623-af29-4c3a-b010-75f5b3e4ae67",
   "metadata": {},
   "outputs": [],
   "source": [
    "from langchain.prompts import PromptTemplate\n",
    "\n",
    "need_answer=PromptTemplate.from_template(\"\"\"\n",
    "*********\n",
    "你是AIGC课程的助教，你的工作是从学员的课堂交流中选择出需要老师回答的问题，加以整理以交给老师回答。\n",
    " \n",
    "课程内容:\n",
    "{outlines}\n",
    "*********\n",
    "学员输入:\n",
    "{user_input}\n",
    "*********\n",
    "如果这是一个需要老师答疑的问题，回复Y，否则回复N。\n",
    "只回复Y或N，不要回复其他内容。\"\"\")\n",
    "\n",
    "model = ChatOpenAI(temperature=0)\n",
    "parser = StrOutputParser()\n",
    "\n",
    "chain_v1 = (\n",
    "    need_answer\n",
    "    | model\n",
    "    | parser\n",
    ")"
   ]
  },
  {
   "cell_type": "markdown",
   "id": "c3264acb-295c-4aa4-9ea4-9aca340bf52a",
   "metadata": {},
   "source": [
    "在数据集上测试效果"
   ]
  },
  {
   "cell_type": "code",
   "execution_count": 36,
   "id": "fad90f27-5aab-423a-96e8-1dc73a903cdb",
   "metadata": {},
   "outputs": [],
   "source": [
    "from concurrent.futures import ThreadPoolExecutor\n",
    "from functools import partial\n",
    "from langfuse import Langfuse\n",
    "\n",
    "langfuse = Langfuse()\n",
    "\n",
    "def run_evaluation(chain, dataset_name, run_name):\n",
    "    # 获取数据集\n",
    "    dataset = langfuse.get_dataset(dataset_name)\n",
    "\n",
    "    def process_item(item):\n",
    "        handler = item.get_langchain_handler(run_name=run_name)\n",
    "        \n",
    "        # Assuming chain.invoke is a synchronous function\n",
    "        output = chain.invoke(item.input, config={\"callbacks\": [handler]})\n",
    "        \n",
    "        # Assuming handler.root_span.score is a synchronous function\n",
    "        handler.root_span.score(\n",
    "            name=\"accuracy\",\n",
    "            value=simple_evaluation(output, item.expected_output)\n",
    "        )\n",
    "        print('.', end='',flush=True)\n",
    "\n",
    "    # Using ThreadPoolExecutor with a maximum of 10 workers\n",
    "    with ThreadPoolExecutor(max_workers=4) as executor:\n",
    "        # Map the process_item function to each item in the dataset\n",
    "        executor.map(process_item, dataset.items)"
   ]
  },
  {
   "cell_type": "code",
   "execution_count": 37,
   "id": "c641ff7c-87d3-4c65-8ee6-e7c27aa35dab",
   "metadata": {},
   "outputs": [],
   "source": [
    "run_evaluation(chain_v1, \"test_dataset\", \"v1-\"+str(uuid.uuid4())[:8])"
   ]
  },
  {
   "cell_type": "markdown",
   "id": "faf5d874-95bb-4a81-8924-f97f00a6a6dc",
   "metadata": {},
   "source": [
    "### 1.5、Prompt 版本管理"
   ]
  },
  {
   "cell_type": "markdown",
   "id": "cd11a845-f9e2-4110-9223-53ffc428b280",
   "metadata": {},
   "source": [
    "[使用文档](https://langfuse.com/docs/prompts/get-started)\n",
    "\n",
    "<img src=\"prompt_management.png\" width=\"1000px\">"
   ]
  },
  {
   "cell_type": "code",
   "execution_count": 46,
   "id": "fece2096-b931-45cb-9754-28b3969b8cca",
   "metadata": {},
   "outputs": [
    {
     "name": "stdout",
     "output_type": "stream",
     "text": [
      "============下面是最新production版本==============\n",
      "*********\n",
      "你是AIGC课程的助教，你的工作是从学员的课堂交流中选择出需要老师回答的问题，加以整理以交给老师回答。\n",
      "\n",
      "你的选择需要遵循以下原则：\n",
      "1 需要老师回答的问题是指与课程内容或AI/LLM相关的技术问题；\n",
      "2 评论性的观点、闲聊、表达模糊不清的句子，不需要老师回答；\n",
      "3 学生输入不构成疑问句的，不需要老师回答；\n",
      "4 学生问题中如果用“这”、“那”等代词指代，不算表达模糊不清，请根据问题内容判断是否需要老师回答。\n",
      " \n",
      "课程内容:\n",
      "test\n",
      "*********\n",
      "学员输入:\n",
      "这是我的输入\n",
      "*********\n",
      "Analyse the student's input according to the lecture's contents and your criteria.\n",
      "Output your analysis process step by step.\n",
      "Finally, output a single letter Y or N in a separate line.\n",
      "Y means that the input needs to be answered by the teacher.\n",
      "N means that the input does not needs to be answered by the teacher.\n",
      "============下面获取指定版本版本==============\n",
      "*********\n",
      "你是AIGC课程的助教，你的工作是从学员的课堂交流中选择出需要老师回答的问题，加以整理以交给老师回答。\n",
      " \n",
      "课程内容:\n",
      "test\n",
      "*********\n",
      "学员输入:\n",
      "这是我的输入\n",
      "*********\n",
      "如果这是一个需要老师答疑的问题，回复Y，否则回复N。\n",
      "只回复Y或N，不要回复其他内容。\"\"\")\n"
     ]
    }
   ],
   "source": [
    "from langfuse import Langfuse\n",
    "from langchain_core.prompts import PromptTemplate\n",
    " \n",
    "\n",
    "langfuse = Langfuse()\n",
    " \n",
    "print(\"============下面是最新production版本==============\")\n",
    "langfuse_prompt = langfuse.get_prompt(\"need_answer\")\n",
    " \n",
    "langchain_prompt = PromptTemplate.from_template(langfuse_prompt.get_langchain_prompt())\n",
    "print(langchain_prompt.format(outlines=\"test\", user_input=\"这是我的输入\"))\n",
    "\n",
    "\n",
    "print(\"============下面获取指定版本版本==============\")\n",
    "langfuse_prompt = langfuse.get_prompt(\"need_answer\", version=1)\n",
    " \n",
    "langchain_prompt = PromptTemplate.from_template(langfuse_prompt.get_langchain_prompt())\n",
    "print(langchain_prompt.format(outlines=\"test\", user_input=\"这是我的输入\"))\n"
   ]
  },
  {
   "cell_type": "markdown",
   "id": "a48f2552-f3af-4484-91e3-3c2308c05921",
   "metadata": {},
   "source": [
    "## 2、LangSmith"
   ]
  },
  {
   "cell_type": "markdown",
   "id": "2b102754-5cbc-457f-82c7-7264795bd2ea",
   "metadata": {},
   "source": [
    "LangChain 官方的 SaaS 服务，不开源，注册需要排队。"
   ]
  },
  {
   "cell_type": "markdown",
   "id": "a2f950af-34cd-43f1-a1a2-ed18d3743f1f",
   "metadata": {},
   "source": [
    "平台入口：https://www.langchain.com/langsmith\n",
    "\n",
    "文档地址：https://python.langchain.com/docs/langsmith/walkthrough\n",
    "\n",
    "将你的 LangChain 应用与 LangSmith 链接，需要：\n",
    "\n",
    "1. 注册账号，并申请一个`LANGCHAIN_API_KEY`\n",
    "2. 在环境变量中设置以下值"
   ]
  },
  {
   "cell_type": "markdown",
   "id": "d77875bb-76ca-4737-afa9-5796064e6e10",
   "metadata": {},
   "source": [
    "```shell\n",
    "export LANGCHAIN_TRACING_V2=true\n",
    "export LANGCHAIN_PROJECT=YOUR_PROJECT_NAME #自定义项目名称\n",
    "export LANGCHAIN_ENDPOINT=https://api.smith.langchain.com #LangSmith的服务端点\n",
    "export LANGCHAIN_API_KEY=LANGCHAIN_API_KEY # LangChain API Key\n",
    "```"
   ]
  },
  {
   "cell_type": "markdown",
   "id": "de823435-67b7-4f96-974a-4588fad8a1ef",
   "metadata": {},
   "source": [
    "3. 程序中的调用将自动被记录"
   ]
  },
  {
   "cell_type": "code",
   "execution_count": 1,
   "id": "58e99900-e48c-4817-a1d4-fe3a101c62bf",
   "metadata": {},
   "outputs": [],
   "source": [
    "import os\n",
    "os.environ[\"LANGCHAIN_TRACING_V2\"]=\"true\"\n",
    "os.environ[\"LANGCHAIN_PROJECT\"]=\"my-test-project\"\n",
    "os.environ[\"LANGCHAIN_ENDPOINT\"]=\"https://api.smith.langchain.com\"\n",
    "os.environ[\"LANGCHAIN_API_KEY\"]=\"ls__2e0b732f882a45f48e06e26f9862c9da\""
   ]
  },
  {
   "cell_type": "code",
   "execution_count": 2,
   "id": "dddaf145-15f2-450e-903c-2de85d6aeb44",
   "metadata": {},
   "outputs": [
    {
     "data": {
      "text/plain": [
       "'Hello AGIClass! How can I assist you today?'"
      ]
     },
     "execution_count": 2,
     "metadata": {},
     "output_type": "execute_result"
    }
   ],
   "source": [
    "from langchain_openai import ChatOpenAI\n",
    "from langchain.prompts import PromptTemplate\n",
    "from langchain.schema.output_parser import StrOutputParser\n",
    "from langchain.schema.runnable import RunnablePassthrough\n",
    "\n",
    "# 定义语言模型\n",
    "llm = ChatOpenAI()\n",
    "\n",
    "# 定义Prompt模板\n",
    "prompt = PromptTemplate.from_template(\"Say hello to {input}!\")\n",
    "\n",
    "# 定义输出解析器\n",
    "parser = StrOutputParser()\n",
    "\n",
    "chain = (\n",
    "    {\"input\":RunnablePassthrough()} \n",
    "    | prompt\n",
    "    | llm\n",
    "    | parser\n",
    ")\n",
    "\n",
    "chain.invoke(\"AGIClass\")"
   ]
  },
  {
   "cell_type": "markdown",
   "id": "b59edfa6-2282-48ee-9c97-7af6a2532ddf",
   "metadata": {},
   "source": [
    "<img src=\"langsmith-example.png\" width=\"600px\">"
   ]
  },
  {
   "cell_type": "markdown",
   "id": "3a31a3eb-9fbf-408c-b2fc-5b5f3cb16268",
   "metadata": {},
   "source": [
    "### 2.1、基本功能演示\n",
    "\n",
    "1. Traces\n",
    "2. LLM Calls\n",
    "3. Monitor\n",
    "4. Playground"
   ]
  },
  {
   "cell_type": "markdown",
   "id": "7c59c7c0-9e49-4230-841c-900487b716cb",
   "metadata": {},
   "source": [
    "### 2.2、数据集管理与测试"
   ]
  },
  {
   "cell_type": "markdown",
   "id": "a84e0dd2-7ea4-4799-9fc6-4b786a8302d3",
   "metadata": {},
   "source": [
    "### 2.2.1、在线标注演示\n",
    "\n",
    "<img src=\"langsmith-annotation.png\" width=\"600px\">"
   ]
  },
  {
   "cell_type": "markdown",
   "id": "f60b4a82-8f91-480e-8e7c-0f7941314c7c",
   "metadata": {},
   "source": [
    "### 2.2.2、上传数据集"
   ]
  },
  {
   "cell_type": "code",
   "execution_count": 3,
   "id": "2f6863f5-e368-4ec7-a51c-97ea6c6032b2",
   "metadata": {},
   "outputs": [],
   "source": [
    "import json\n",
    "\n",
    "data = []\n",
    "with open('my_annotations.jsonl','r',encoding='utf-8') as fp:\n",
    "    for line in fp:\n",
    "        example = json.loads(line.strip())\n",
    "        item = {\n",
    "            \"input\": {\n",
    "                \"outlines\": example[\"outlines\"],\n",
    "                \"user_input\": example[\"user_input\"]\n",
    "            },\n",
    "            \"expected_output\": example[\"label\"]\n",
    "        }\n",
    "        data.append(item)"
   ]
  },
  {
   "cell_type": "code",
   "execution_count": 6,
   "id": "8e978a2d-74cd-4b9c-a3cb-18f81b091c67",
   "metadata": {},
   "outputs": [],
   "source": [
    "from langsmith import Client\n",
    "\n",
    "client = Client()\n",
    "\n",
    "dataset_name = \"teacher-assistant\"\n",
    "\n",
    "dataset = client.create_dataset(\n",
    "    dataset_name, #数据集名称\n",
    "    description=\"AGIClass线上跟课助手的标注数据\", #数据集描述\n",
    ")\n",
    "\n",
    "\n",
    "client.create_examples(\n",
    "    inputs=[{\"input\":item[\"input\"]} for item in data[:50]], \n",
    "    outputs=[{\"output\":item[\"expected_output\"]} for item in data[:50]], \n",
    "    dataset_id=dataset.id\n",
    ")"
   ]
  },
  {
   "cell_type": "markdown",
   "id": "b0f473e5-3873-42d0-b900-f0d9cea94412",
   "metadata": {},
   "source": [
    "### 2.2.3、评估函数"
   ]
  },
  {
   "cell_type": "code",
   "execution_count": 7,
   "id": "195f62cc-43ae-4120-9008-a2ac456cfd68",
   "metadata": {},
   "outputs": [],
   "source": [
    "from langchain.evaluation import StringEvaluator\n",
    "from nltk.translate.bleu_score import sentence_bleu, SmoothingFunction\n",
    "import re\n",
    "from typing import Optional, Any\n",
    "\n",
    "class AccuracyEvaluator(StringEvaluator):\n",
    "\n",
    "    def __init__(self):\n",
    "        pass\n",
    "\n",
    "    @property\n",
    "    def requires_input(self) -> bool:\n",
    "        return False\n",
    "\n",
    "    @property\n",
    "    def requires_reference(self) -> bool:\n",
    "        return True\n",
    "\n",
    "    @property\n",
    "    def evaluation_name(self) -> str:\n",
    "        return \"accuracy\"\n",
    "\n",
    "    def _evaluate_strings(\n",
    "        self,\n",
    "        prediction: str,\n",
    "        input: Optional[str] = None,\n",
    "        reference: Optional[str] = None,\n",
    "        **kwargs: Any\n",
    "    ) -> dict:\n",
    "        return {\"score\": int(prediction==reference)}"
   ]
  },
  {
   "cell_type": "code",
   "execution_count": 8,
   "id": "3813b43c-7ecd-46e3-9a2c-9b880bfea413",
   "metadata": {},
   "outputs": [],
   "source": [
    "from langchain.evaluation import EvaluatorType\n",
    "from langchain.smith import RunEvalConfig\n",
    "\n",
    "evaluation_config = RunEvalConfig(\n",
    "    # 自定义评估标准\n",
    "    custom_evaluators=[AccuracyEvaluator()],\n",
    ")"
   ]
  },
  {
   "cell_type": "markdown",
   "id": "bcef2db5-39d8-4e0a-aa1c-4235944acd93",
   "metadata": {},
   "source": [
    "### 2.2.4、运行测试"
   ]
  },
  {
   "cell_type": "code",
   "execution_count": 14,
   "id": "c56d52ec-d58a-4720-a9a4-1b8f8130d7c1",
   "metadata": {},
   "outputs": [],
   "source": [
    "from langchain.prompts import PromptTemplate\n",
    "\n",
    "need_answer=PromptTemplate.from_template(\"\"\"\n",
    "*********\n",
    "你是AIGC课程的助教，你的工作是从学员的课堂交流中选择出需要老师回答的问题，加以整理以交给老师回答。\n",
    " \n",
    "课程内容:\n",
    "{outlines}\n",
    "*********\n",
    "学员输入:\n",
    "{user_input}\n",
    "*********\n",
    "如果这是一个需要老师答疑的问题，回复Y，否则回复N。\n",
    "只回复Y或N，不要回复其他内容。\"\"\")\n",
    "\n",
    "model = ChatOpenAI(temperature=0,model_kwargs={\"seed\":42})\n",
    "parser = StrOutputParser()\n",
    "\n",
    "chain_v1 = (\n",
    "    {\n",
    "        \"outlines\":lambda x: x[\"input\"][\"outlines\"],\n",
    "        \"user_input\":lambda x: x[\"input\"][\"user_input\"],\n",
    "    }\n",
    "    | need_answer\n",
    "    | model\n",
    "    | parser\n",
    ")"
   ]
  },
  {
   "cell_type": "code",
   "execution_count": 15,
   "id": "b92f2e89-0bc6-41df-b5b4-7fa938639795",
   "metadata": {
    "scrolled": true
   },
   "outputs": [
    {
     "name": "stdout",
     "output_type": "stream",
     "text": [
      "View the evaluation results for project 'test-my-assistant-v1' at:\n",
      "https://smith.langchain.com/o/97b8262a-9ab9-4b43-afeb-21ea05a90ba7/datasets/b8f34ad2-126b-47ee-a00b-80b9615f318a/compare?selectedSessions=e1742fe4-9c53-422d-a0a6-381d9d9753e4\n",
      "\n",
      "View all tests for Dataset teacher-assistant at:\n",
      "https://smith.langchain.com/o/97b8262a-9ab9-4b43-afeb-21ea05a90ba7/datasets/b8f34ad2-126b-47ee-a00b-80b9615f318a\n",
      "[------------------------------------------------->] 50/50"
     ]
    },
    {
     "data": {
      "text/html": [
       "<h3>Experiment Results:</h3>"
      ],
      "text/plain": [
       "<IPython.core.display.HTML object>"
      ]
     },
     "metadata": {},
     "output_type": "display_data"
    },
    {
     "data": {
      "text/html": [
       "<div>\n",
       "<style scoped>\n",
       "    .dataframe tbody tr th:only-of-type {\n",
       "        vertical-align: middle;\n",
       "    }\n",
       "\n",
       "    .dataframe tbody tr th {\n",
       "        vertical-align: top;\n",
       "    }\n",
       "\n",
       "    .dataframe thead th {\n",
       "        text-align: right;\n",
       "    }\n",
       "</style>\n",
       "<table border=\"1\" class=\"dataframe\">\n",
       "  <thead>\n",
       "    <tr style=\"text-align: right;\">\n",
       "      <th></th>\n",
       "      <th>output</th>\n",
       "      <th>feedback.accuracy</th>\n",
       "      <th>error</th>\n",
       "      <th>execution_time</th>\n",
       "      <th>run_id</th>\n",
       "    </tr>\n",
       "  </thead>\n",
       "  <tbody>\n",
       "    <tr>\n",
       "      <th>count</th>\n",
       "      <td>50</td>\n",
       "      <td>50.000000</td>\n",
       "      <td>0</td>\n",
       "      <td>50.000000</td>\n",
       "      <td>50</td>\n",
       "    </tr>\n",
       "    <tr>\n",
       "      <th>unique</th>\n",
       "      <td>2</td>\n",
       "      <td>NaN</td>\n",
       "      <td>0</td>\n",
       "      <td>NaN</td>\n",
       "      <td>50</td>\n",
       "    </tr>\n",
       "    <tr>\n",
       "      <th>top</th>\n",
       "      <td>N</td>\n",
       "      <td>NaN</td>\n",
       "      <td>NaN</td>\n",
       "      <td>NaN</td>\n",
       "      <td>ef33817b-1118-474b-ab31-8984b3cfadf1</td>\n",
       "    </tr>\n",
       "    <tr>\n",
       "      <th>freq</th>\n",
       "      <td>31</td>\n",
       "      <td>NaN</td>\n",
       "      <td>NaN</td>\n",
       "      <td>NaN</td>\n",
       "      <td>1</td>\n",
       "    </tr>\n",
       "    <tr>\n",
       "      <th>mean</th>\n",
       "      <td>NaN</td>\n",
       "      <td>0.780000</td>\n",
       "      <td>NaN</td>\n",
       "      <td>1.352174</td>\n",
       "      <td>NaN</td>\n",
       "    </tr>\n",
       "    <tr>\n",
       "      <th>std</th>\n",
       "      <td>NaN</td>\n",
       "      <td>0.418452</td>\n",
       "      <td>NaN</td>\n",
       "      <td>0.353752</td>\n",
       "      <td>NaN</td>\n",
       "    </tr>\n",
       "    <tr>\n",
       "      <th>min</th>\n",
       "      <td>NaN</td>\n",
       "      <td>0.000000</td>\n",
       "      <td>NaN</td>\n",
       "      <td>1.006048</td>\n",
       "      <td>NaN</td>\n",
       "    </tr>\n",
       "    <tr>\n",
       "      <th>25%</th>\n",
       "      <td>NaN</td>\n",
       "      <td>1.000000</td>\n",
       "      <td>NaN</td>\n",
       "      <td>1.240261</td>\n",
       "      <td>NaN</td>\n",
       "    </tr>\n",
       "    <tr>\n",
       "      <th>50%</th>\n",
       "      <td>NaN</td>\n",
       "      <td>1.000000</td>\n",
       "      <td>NaN</td>\n",
       "      <td>1.289699</td>\n",
       "      <td>NaN</td>\n",
       "    </tr>\n",
       "    <tr>\n",
       "      <th>75%</th>\n",
       "      <td>NaN</td>\n",
       "      <td>1.000000</td>\n",
       "      <td>NaN</td>\n",
       "      <td>1.348476</td>\n",
       "      <td>NaN</td>\n",
       "    </tr>\n",
       "    <tr>\n",
       "      <th>max</th>\n",
       "      <td>NaN</td>\n",
       "      <td>1.000000</td>\n",
       "      <td>NaN</td>\n",
       "      <td>3.432141</td>\n",
       "      <td>NaN</td>\n",
       "    </tr>\n",
       "  </tbody>\n",
       "</table>\n",
       "</div>"
      ],
      "text/plain": [
       "       output  feedback.accuracy error  execution_time  \\\n",
       "count      50          50.000000     0       50.000000   \n",
       "unique      2                NaN     0             NaN   \n",
       "top         N                NaN   NaN             NaN   \n",
       "freq       31                NaN   NaN             NaN   \n",
       "mean      NaN           0.780000   NaN        1.352174   \n",
       "std       NaN           0.418452   NaN        0.353752   \n",
       "min       NaN           0.000000   NaN        1.006048   \n",
       "25%       NaN           1.000000   NaN        1.240261   \n",
       "50%       NaN           1.000000   NaN        1.289699   \n",
       "75%       NaN           1.000000   NaN        1.348476   \n",
       "max       NaN           1.000000   NaN        3.432141   \n",
       "\n",
       "                                      run_id  \n",
       "count                                     50  \n",
       "unique                                    50  \n",
       "top     ef33817b-1118-474b-ab31-8984b3cfadf1  \n",
       "freq                                       1  \n",
       "mean                                     NaN  \n",
       "std                                      NaN  \n",
       "min                                      NaN  \n",
       "25%                                      NaN  \n",
       "50%                                      NaN  \n",
       "75%                                      NaN  \n",
       "max                                      NaN  "
      ]
     },
     "metadata": {},
     "output_type": "display_data"
    }
   ],
   "source": [
    "from langchain.smith import (\n",
    "    arun_on_dataset,\n",
    "    run_on_dataset,\n",
    ")\n",
    "\n",
    "results = await arun_on_dataset(\n",
    "    dataset_name=dataset_name,\n",
    "    llm_or_chain_factory=chain_v1,\n",
    "    evaluation=evaluation_config,\n",
    "    verbose=True,\n",
    "    client=client,\n",
    "    project_name=\"test-my-assistant-v1\",\n",
    "    tags=[\n",
    "        \"prompt_v1\",\n",
    "    ],  # 可选，自定义的标识\n",
    ")"
   ]
  },
  {
   "cell_type": "markdown",
   "id": "1fe1d803-5b09-4756-89a1-8377c22300e5",
   "metadata": {},
   "source": [
    "### 2.2.5、基于 LLM 的评估函数\n",
    "\n",
    "https://docs.smith.langchain.com/evaluation/evaluator-implementations"
   ]
  },
  {
   "cell_type": "markdown",
   "id": "6e365c65-9d5a-4fba-8d9d-b1be247f90c2",
   "metadata": {},
   "source": [
    "## 总结"
   ]
  },
  {
   "cell_type": "markdown",
   "id": "881722dc-400a-451a-abbf-4324a0a5c2db",
   "metadata": {},
   "source": [
    "管理一个 LLM 应用的全生命周期，需要用到以下工具：\n",
    "\n",
    "1. 调试 Prompt 的 Playground\n",
    "2. 测试/验证系统的相关指标\n",
    "3. 数据集管理\n",
    "4. 各种指标监控与统计：访问量、响应时长、Token费等等\n",
    "\n",
    "根据自己的技术栈，选择：\n",
    "\n",
    "1. LangFuse：开源平台，支持 LangChain 和原生 OpenAI API\n",
    "2. LangSmith: LangChain 的原始管理平台\n",
    "3. Prompt Flow：开源平台，支持 Semantic Kernel"
   ]
  }
 ],
 "metadata": {
  "kernelspec": {
   "display_name": "Python 3 (ipykernel)",
   "language": "python",
   "name": "python3"
  },
  "language_info": {
   "codemirror_mode": {
    "name": "ipython",
    "version": 3
   },
   "file_extension": ".py",
   "mimetype": "text/x-python",
   "name": "python",
   "nbconvert_exporter": "python",
   "pygments_lexer": "ipython3",
   "version": "3.9.13"
  }
 },
 "nbformat": 4,
 "nbformat_minor": 5
}
