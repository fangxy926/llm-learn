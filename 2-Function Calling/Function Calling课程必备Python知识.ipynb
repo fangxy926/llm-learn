{
 "cells": [
  {
   "cell_type": "markdown",
   "id": "fd757963",
   "metadata": {},
   "source": [
    "## 1、补充说明OpenAI Chat Completions API中的tools和tool_choice参数\n",
    "\n",
    "- `tools`（工具集）: 带调用的函数或服务列表，最大支持128个\n",
    "\n",
    "<img src=\"tools.png\" style=\"margin-left: 0px\" width=500px>\n",
    "\n",
    "- `tool_choice`: 控制模型是否调用工具及调用哪个哪个工具\n",
    "    - `none`: 表示模型不调用任何工具，仅生成文本。\n",
    "    - `auto`: 表示模型可以在生成文本或调用一个或多个工具之间做出选择。\n",
    "    - `required`: 模型必须调用一个或多个工具。\n",
    "    - 如果`tools`为空，默认值`tool_choice`为`none`; 否则，默认值为`auto`"
   ]
  },
  {
   "cell_type": "code",
   "execution_count": null,
   "id": "9d7c0260",
   "metadata": {},
   "outputs": [],
   "source": [
    "def get_completion(messages, model=\"gpt-3.5-turbo-1106\"):\n",
    "    response = client.chat.completions.create(\n",
    "        model=model,\n",
    "        messages=messages,\n",
    "        temperature=0.7,  \n",
    "        tools=[{  # 用 JSON 描述函数。可以定义多个。由大模型决定调用谁。也可能都不调用\n",
    "            \"type\": \"function\",\n",
    "            \"function\": {\n",
    "                \"name\": \"sum\",\n",
    "                \"description\": \"加法器，计算一组数的和\",\n",
    "                \"parameters\": {\n",
    "                    \"type\": \"object\",\n",
    "                    \"properties\": {\n",
    "                        \"numbers\": {\n",
    "                            \"type\": \"array\",\n",
    "                            \"items\": {\n",
    "                                \"type\": \"number\"\n",
    "                            }\n",
    "                        }\n",
    "                    }\n",
    "                }\n",
    "            }\n",
    "        }],\n",
    "    )\n",
    "    return response.choices[0].message"
   ]
  },
  {
   "cell_type": "markdown",
   "id": "6199ace2",
   "metadata": {},
   "source": [
    "## 2、request库\n",
    "\n",
    "### 简介\n",
    "\n",
    "request用于发送 HTTP 请求。它简化了与 Web 服务和 API 交互的过程，提供了一个直观且强大的接口来处理各种 HTTP 请求。\n",
    "\n",
    "### 安装命令\n",
    "\n",
    "```bash\n",
    "pip install requests\n",
    "```\n",
    "### 基本用法\n",
    "\n",
    "1、发送 GET 请求"
   ]
  },
  {
   "cell_type": "code",
   "execution_count": null,
   "id": "5d497515",
   "metadata": {},
   "outputs": [],
   "source": [
    "import requests\n",
    "\n",
    "response = requests.get('https://www.baidu.com')\n",
    "print(response.status_code)  # 打印响应状态码\n",
    "print(response.text)         # 打印响应内容"
   ]
  },
  {
   "cell_type": "markdown",
   "id": "05292563",
   "metadata": {},
   "source": [
    "2、发送 POST 请求"
   ]
  },
  {
   "cell_type": "code",
   "execution_count": null,
   "id": "117ae16a",
   "metadata": {},
   "outputs": [],
   "source": [
    "import requests\n",
    "\n",
    "data = {'key1': 'value1', 'key2': 'value2'}\n",
    "response = requests.post('https://api.example.com/submit', data=data)\n",
    "print(response.status_code)\n",
    "print(response.json())  # 如果响应内容是 JSON 格式，可以直接解析"
   ]
  },
  {
   "cell_type": "markdown",
   "id": "e7ff4ac3",
   "metadata": {},
   "source": [
    "3、更多内容见官方文档：https://requests.readthedocs.io/en/latest/"
   ]
  },
  {
   "cell_type": "code",
   "execution_count": null,
   "id": "06d5131d",
   "metadata": {},
   "outputs": [],
   "source": []
  }
 ],
 "metadata": {
  "kernelspec": {
   "display_name": "Python 3 (ipykernel)",
   "language": "python",
   "name": "python3"
  },
  "language_info": {
   "codemirror_mode": {
    "name": "ipython",
    "version": 3
   },
   "file_extension": ".py",
   "mimetype": "text/x-python",
   "name": "python",
   "nbconvert_exporter": "python",
   "pygments_lexer": "ipython3",
   "version": "3.9.13"
  }
 },
 "nbformat": 4,
 "nbformat_minor": 5
}
