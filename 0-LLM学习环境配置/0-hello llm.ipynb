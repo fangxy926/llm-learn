{
 "cells": [
  {
   "cell_type": "code",
   "execution_count": 2,
   "id": "11ee41b9",
   "metadata": {},
   "outputs": [
    {
     "name": "stdout",
     "output_type": "stream",
     "text": [
      "有一天，小明在课堂上打瞌睡，老师叫他回答问题：“小明，你说说牛顿的第一定律是什么？”\n",
      "\n",
      "小明迷迷糊糊地站起来，回答道：“老师，牛顿的第一定律是……苹果不能乱丢。”\n",
      "\n",
      "老师笑着说：“你说得对，不过那是牛顿的苹果定律！”\n"
     ]
    }
   ],
   "source": [
    "# 从openai库中导入OpenAI类\n",
    "from openai import OpenAI\n",
    "# 从dotenv库中导入load_dotenv和find_dotenv函数\n",
    "from dotenv import load_dotenv, find_dotenv\n",
    "\n",
    "# 加载环境变量文件\n",
    "load_dotenv(find_dotenv())\n",
    "\n",
    "# 创建一个OpenAI客户端实例\n",
    "client = OpenAI()\n",
    "\n",
    "# 使用客户端实例创建一个聊天补全请求\n",
    "chat_completion = client.chat.completions.create(\n",
    "  messages=[\n",
    "      {\n",
    "          \"role\": \"user\",  # 指定消息的角色为用户\n",
    "          \"content\": \"讲个笑话\",  # 用户发送的消息内容\n",
    "      }\n",
    "  ],\n",
    "  model=\"gpt-4o\",  # 指定使用的模型，此处可以更换为其他模型\n",
    ")\n",
    "\n",
    "# 打印生成的聊天补全的第一个选择的消息内容\n",
    "print(chat_completion.choices[0].message.content)"
   ]
  },
  {
   "cell_type": "code",
   "execution_count": null,
   "id": "959fdf92",
   "metadata": {},
   "outputs": [],
   "source": []
  }
 ],
 "metadata": {
  "kernelspec": {
   "display_name": "Python 3 (ipykernel)",
   "language": "python",
   "name": "python3"
  },
  "language_info": {
   "codemirror_mode": {
    "name": "ipython",
    "version": 3
   },
   "file_extension": ".py",
   "mimetype": "text/x-python",
   "name": "python",
   "nbconvert_exporter": "python",
   "pygments_lexer": "ipython3",
   "version": "3.9.13"
  }
 },
 "nbformat": 4,
 "nbformat_minor": 5
}
