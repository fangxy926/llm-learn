{
 "cells": [
  {
   "cell_type": "markdown",
   "metadata": {
    "pycharm": {
     "name": "#%% md\n"
    }
   },
   "source": [
    "## asyncio\n",
    "\n",
    "> [Python 异步编程入门 - 阮一峰的网络日志 (ruanyifeng.com)](https://www.ruanyifeng.com/blog/2019/11/python-asyncio.html)\n",
    ">\n",
    "> [asyncio --- 异步 I/O — Python 3.9.19 文档](https://docs.python.org/zh-cn/3.9/library/asyncio.html)\n",
    "\n",
    "### 什么是asyncio？\n",
    "- 它是 Python 标准库中的一个模块，用于编写并发代码。它通过【事件循环】实现了异步 I/O 操作。\n",
    "- 它最大的特点： 不是通过多线程或多进程实现并发，而是通过【协程】在**单线程**中实现并发。\n",
    "- 它的执行方式是事件驱动的，协程会在等待的地方让出控制权，事件循环会在合适的时机恢复协程的执行。\n",
    "- Python 3.4 引入了 `asyncio` 模块，语法跟 JavaScript 的`async/await` 极为类似。\n",
    "- 它的效率很高，特别适合处理大量 I/O 操作的场景，如网络爬虫、异步 Web 服务等。\n",
    "\n",
    "### asyncio中的核心概念\n",
    "- **事件循环（Event Loop）：** 事件循环负责调度和执行异步任务。事件循环不断地运行，检查是否有可执行的任务并执行它们。\n",
    "- **协程（Coroutines）：** 协程是可以在执行过程中暂停，交出执行权，并在稍后继续执行的函数。在 Python 中，使用 `async def` 定义协程，使用 `await` 暂停执行。\n",
    "- **任务（Tasks）：** 任务是对协程的封装，允许它们在事件循环中运行。使用 `asyncio.create_task()` 可以创建一个任务并将其添加到事件循环中执行。\n",
    "\n",
    "### asyncio DEMO"
   ]
  },
  {
   "cell_type": "code",
   "execution_count": null,
   "metadata": {
    "pycharm": {
     "is_executing": true,
     "name": "#%%\n"
    }
   },
   "outputs": [],
   "source": [
    "import asyncio\n",
    "\n",
    "\n",
    "# 创建协程：函数前面加上 async 关键字。这种函数最大特点是执行可以暂停，交出执行权。\n",
    "async def fetch_data():\n",
    "    print(\"开始获取数据...\")\n",
    "    # 在 async 函数内部的异步任务前面，加上await命令。\n",
    "    await asyncio.sleep(2)  # 模拟 I/O 操作，如网络请求\n",
    "    print(\"数据获取成功!\")\n",
    "    return {\"data\": \"example\"}\n",
    "\n",
    "\n",
    "async def process_data():\n",
    "    print(\"处理数据...\")\n",
    "    await asyncio.sleep(1)  # 模拟数据处理\n",
    "    print(\"数据处理成功!\")\n",
    "\n",
    "\n",
    "async def main():\n",
    "    # 并行运行 fetch_data 和 process_data\n",
    "    fetch_task = asyncio.create_task(fetch_data())\n",
    "    process_task = asyncio.create_task(process_data())\n",
    "\n",
    "    await fetch_task\n",
    "    await process_task\n",
    "\n",
    "\n",
    "# 执行主函数\n",
    "# async.run() 方法加载 async 函数，启动事件循环。\n",
    "# asyncio.run(main())\n",
    "# 如果在jupyter notebook中执行，不能用asyncio.run(main())，只能用下面写法\n",
    "await main()\n"
   ]
  },
  {
   "cell_type": "markdown",
   "metadata": {
    "pycharm": {
     "name": "#%% md\n"
    }
   },
   "source": [
    "上述执行结果分析：\n",
    "\n",
    "1、main 会并行启动两个任务：`fetch_data`和 `process_data`。\n",
    "\n",
    "2、`fetch_data`先打印 “开始获取数据...”，然后等待两秒，而在这两秒期间，`process_data` 开始执行并打印“处理数据...”，然后等待一秒。\n",
    "\n",
    "3、一秒后，`process_data` 打印“数据处理成功!” 并完成，而 `fetch_data` 还在等待另一秒。\n",
    "\n",
    "4、最后 `fetch_data` 完成，打印“数据获取成功!”。"
   ]
  },
  {
   "cell_type": "code",
   "execution_count": null,
   "metadata": {
    "collapsed": false,
    "pycharm": {
     "name": "#%%\n"
    }
   },
   "outputs": [],
   "source": []
  }
 ],
 "metadata": {
  "kernelspec": {
   "display_name": "Python 3 (ipykernel)",
   "language": "python",
   "name": "python3"
  },
  "language_info": {
   "codemirror_mode": {
    "name": "ipython",
    "version": 3
   },
   "file_extension": ".py",
   "mimetype": "text/x-python",
   "name": "python",
   "nbconvert_exporter": "python",
   "pygments_lexer": "ipython3",
   "version": "3.11.9"
  }
 },
 "nbformat": 4,
 "nbformat_minor": 4
}
